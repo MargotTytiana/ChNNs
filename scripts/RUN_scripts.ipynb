{
 "cells": [
  {
   "cell_type": "code",
   "execution_count": 3,
   "id": "85624ab7-95fd-428f-bcd8-bb1c98169f84",
   "metadata": {},
   "outputs": [
    {
     "name": "stdout",
     "output_type": "stream",
     "text": [
      "Setup paths from: /scratch/project_2003370/yueyao/Model/scripts\n",
      "Project root: /scratch/project_2003370/yueyao/Model\n",
      "Current file: /scratch/project_2003370/yueyao/Model/experiments/baseline_experiment.py\n",
      "Python path includes: ['/scratch/project_2003370/yueyao/Model/evaluation', '/scratch/project_2003370/yueyao/Model/utils', '/scratch/project_2003370/yueyao/Model/data', '/scratch/project_2003370/yueyao/Model/experiments', '/scratch/project_2003370/yueyao/Model', '/scratch/project_2003370/yueyao/Model/scripts']\n",
      "Project root: /scratch/project_2003370/yueyao\n",
      "Added 9 paths to sys.path\n",
      "Successfully imported BaseExperiment\n",
      "Warning: Some feature extractors not found. Using mock implementations.\n",
      "Successfully imported hybrid_models\n",
      "Failed to import MLPClassifier: cannot import name 'MLPClassifier' from 'models.mlp_classifier' (/scratch/project_2003370/yueyao/Model/models/mlp_classifier.py)\n",
      "Failed to import traditional_features: cannot import name 'MelExtractor' from 'features.traditional_features' (/scratch/project_2003370/yueyao/Model/features/traditional_features.py)\n",
      "Project root: /scratch/project_2003370/yueyao\n",
      "Added 9 paths to sys.path\n",
      "Successfully imported dataset_loader from data.dataset_loader\n",
      "Failed to import AudioPreprocessor: cannot import name 'AudioPreprocessor' from 'data.audio_preprocessor' (/scratch/project_2003370/yueyao/Model/data/audio_preprocessor.py)\n",
      "All modules imported successfully\n",
      "Traceback (most recent call last):\n",
      "  File \"/scratch/project_2003370/yueyao/Model/scripts/train_baselines.py\", line 57, in <module>\n",
      "    class BaselineTrainingManager:\n",
      "  File \"/scratch/project_2003370/yueyao/Model/scripts/train_baselines.py\", line 67, in BaselineTrainingManager\n",
      "    config: Dict[str, Any],\n",
      "            ^^^^\n",
      "NameError: name 'Dict' is not defined. Did you mean: 'dict'?\n"
     ]
    }
   ],
   "source": [
    "!python train_baselines.py --method mel_mlp --epochs 100"
   ]
  }
 ],
 "metadata": {
  "kernelspec": {
   "display_name": "Python 3 (ipykernel)",
   "language": "python",
   "name": "python3"
  },
  "language_info": {
   "codemirror_mode": {
    "name": "ipython",
    "version": 3
   },
   "file_extension": ".py",
   "mimetype": "text/x-python",
   "name": "python",
   "nbconvert_exporter": "python",
   "pygments_lexer": "ipython3",
   "version": "3.12.10"
  }
 },
 "nbformat": 4,
 "nbformat_minor": 5
}
