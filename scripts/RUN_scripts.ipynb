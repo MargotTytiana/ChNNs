{
 "cells": [
  {
   "cell_type": "code",
   "execution_count": 2,
   "id": "2a47c3db-65e7-4821-864e-2329f0c6f4cc",
   "metadata": {},
   "outputs": [
    {
     "name": "stdout",
     "output_type": "stream",
     "text": [
      "Fallback import setup: added /scratch/project_2003370/yueyao/Model to path\n",
      "Import error: No module named 'Model'\n",
      "Please check that all required files exist and the project structure is correct\n",
      "Warning: Some feature extractors not found. Using mock implementations.\n",
      "✗ Import error: cannot import name 'MelExtractor' from 'traditional_features' (/scratch/project_2003370/yueyao/Model/features/traditional_features.py)\n",
      "Project root: /scratch/project_2003370/yueyao/Model\n"
     ]
    }
   ],
   "source": [
    "!python train_baselines.py --method mel_mlp --epochs 100"
   ]
  },
  {
   "cell_type": "code",
   "execution_count": null,
   "id": "570b1af8-8a19-4b43-addc-ae3751fbabb2",
   "metadata": {},
   "outputs": [],
   "source": []
  }
 ],
 "metadata": {
  "kernelspec": {
   "display_name": "Python 3 (ipykernel)",
   "language": "python",
   "name": "python3"
  },
  "language_info": {
   "codemirror_mode": {
    "name": "ipython",
    "version": 3
   },
   "file_extension": ".py",
   "mimetype": "text/x-python",
   "name": "python",
   "nbconvert_exporter": "python",
   "pygments_lexer": "ipython3",
   "version": "3.12.10"
  }
 },
 "nbformat": 4,
 "nbformat_minor": 5
}
