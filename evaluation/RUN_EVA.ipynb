{
 "cells": [
  {
   "cell_type": "code",
   "execution_count": 1,
   "id": "229a7aaa-a1e3-4f3f-b9bd-0ef18580b919",
   "metadata": {},
   "outputs": [
    {
     "name": "stdout",
     "output_type": "stream",
     "text": [
      "Testing Evaluation Metrics...\n",
      "Basic Metrics:\n",
      "  accuracy: 0.6630\n",
      "  precision_macro: 0.6629\n",
      "  recall_macro: 0.6651\n",
      "  f1_macro: 0.6621\n",
      "  precision_weighted: 0.6672\n",
      "  recall_weighted: 0.6630\n",
      "  f1_weighted: 0.6630\n",
      "  precision_class_0: 0.7419\n",
      "  recall_class_0: 0.5847\n",
      "  f1_class_0: 0.6540\n",
      "  precision_class_1: 0.6344\n",
      "  recall_class_1: 0.7108\n",
      "  f1_class_1: 0.6705\n",
      "  precision_class_2: 0.7222\n",
      "  recall_class_2: 0.7091\n",
      "  f1_class_2: 0.7156\n",
      "  precision_class_3: 0.6296\n",
      "  recall_class_3: 0.7234\n",
      "  f1_class_3: 0.6733\n",
      "  precision_class_4: 0.6495\n",
      "  recall_class_4: 0.5888\n",
      "  f1_class_4: 0.6176\n",
      "  precision_class_5: 0.6869\n",
      "  recall_class_5: 0.7083\n",
      "  f1_class_5: 0.6974\n",
      "  precision_class_6: 0.5743\n",
      "  recall_class_6: 0.6170\n",
      "  f1_class_6: 0.5949\n",
      "  precision_class_7: 0.7019\n",
      "  recall_class_7: 0.7300\n",
      "  f1_class_7: 0.7157\n",
      "  precision_class_8: 0.5714\n",
      "  recall_class_8: 0.6154\n",
      "  f1_class_8: 0.5926\n",
      "  precision_class_9: 0.7172\n",
      "  recall_class_9: 0.6636\n",
      "  f1_class_9: 0.6893\n",
      "\n",
      "Advanced Metrics:\n",
      "  top_3_accuracy: 0.8970\n",
      "  top_5_accuracy: 0.9700\n",
      "  balanced_accuracy: 0.6651\n",
      "  mean_confidence: 2.2253\n",
      "  confidence_std: 0.7674\n",
      "  reliability: 0.3865\n",
      "  reliability_p_value: 0.0000\n",
      "  expected_calibration_error: 0.0185\n",
      "  brier_score: 0.6740\n",
      "\n",
      "Speaker Verification Metrics:\n",
      "  roc_auc: 0.4812\n",
      "  eer: 0.5062\n",
      "  eer_threshold: inf\n",
      "  min_dcf: 0.0100\n",
      "\n",
      "Speaker Identification Metrics:\n",
      "  identification_accuracy: 0.6630\n",
      "  rank_1_accuracy: 0.6630\n",
      "\n",
      "Comprehensive Evaluation:\n",
      "Total metrics computed: 52\n",
      "\n",
      "Statistical Analysis:\n",
      "Chaotic vs Baseline t-test: p-value = 0.002172\n",
      "Significant improvement: True\n",
      "Effect size (Cohen's d): 1.067\n",
      "Chaotic method 95% CI: 0.8995 [0.8845, 0.9146]\n",
      "\n",
      "Metrics testing completed successfully!\n"
     ]
    }
   ],
   "source": [
    "!python metrics.py"
   ]
  }
 ],
 "metadata": {
  "kernelspec": {
   "display_name": "Python 3 (ipykernel)",
   "language": "python",
   "name": "python3"
  },
  "language_info": {
   "codemirror_mode": {
    "name": "ipython",
    "version": 3
   },
   "file_extension": ".py",
   "mimetype": "text/x-python",
   "name": "python",
   "nbconvert_exporter": "python",
   "pygments_lexer": "ipython3",
   "version": "3.12.10"
  }
 },
 "nbformat": 4,
 "nbformat_minor": 5
}
