{
 "cells": [
  {
   "cell_type": "code",
   "execution_count": 1,
   "id": "5579b541-3eb3-4e79-9116-77018803d6ad",
   "metadata": {},
   "outputs": [
    {
     "name": "stdout",
     "output_type": "stream",
     "text": [
      "2025-09-20 20:51:14,888 - experiment_test_experiment - INFO - Initialized experiment: test_experiment\n",
      "2025-09-20 20:51:14,889 - experiment_test_experiment - INFO - Device: cuda\n",
      "2025-09-20 20:51:14,889 - experiment_test_experiment - INFO - Output directory: ./test_outputs/test_experiment\n",
      "Setting up experiment...\n",
      "2025-09-20 20:51:14,889 - experiment_test_experiment - INFO - Setting up experiment components...\n",
      "2025-09-20 20:51:14,979 - experiment_test_experiment - INFO - Model created: Sequential\n",
      "2025-09-20 20:51:14,979 - experiment_test_experiment - INFO - Total parameters: 1,029\n",
      "2025-09-20 20:51:14,979 - experiment_test_experiment - INFO - Trainable parameters: 1,029\n",
      "2025-09-20 20:51:14,981 - experiment_test_experiment - INFO - Dataloaders created:\n",
      "2025-09-20 20:51:14,981 - experiment_test_experiment - INFO -   Train: 7 batches\n",
      "2025-09-20 20:51:14,981 - experiment_test_experiment - INFO -   Val: 2 batches\n",
      "2025-09-20 20:51:14,981 - experiment_test_experiment - INFO -   Test: 2 batches\n",
      "2025-09-20 20:51:16,007 - experiment_test_experiment - INFO - Optimizer: Adam\n",
      "2025-09-20 20:51:16,008 - experiment_test_experiment - INFO - Criterion: CrossEntropyLoss\n",
      "2025-09-20 20:51:16,009 - experiment_test_experiment - INFO - Configuration saved to: ./test_outputs/test_experiment/config.json\n",
      "2025-09-20 20:51:16,009 - experiment_test_experiment - INFO - Experiment setup completed\n",
      "Training for 3 epochs...\n",
      "2025-09-20 20:51:16,009 - experiment_test_experiment - INFO - Starting training for 3 epochs\n",
      "2025-09-20 20:51:16,184 - experiment_test_experiment - INFO - Train Epoch 0: [0/100 (0.0%)]\tLoss: 1.688438\n",
      "2025-09-20 20:51:16,250 - experiment_test_experiment - INFO - Epoch 0: Train Loss: 1.6490, Train Acc: 0.2100, Val Loss: 1.6153, Val Acc: 0.1000\n",
      "2025-09-20 20:51:16,257 - experiment_test_experiment - INFO - Saved new best model at epoch 0\n",
      "2025-09-20 20:51:16,266 - experiment_test_experiment - INFO - Train Epoch 1: [0/100 (0.0%)]\tLoss: 1.631076\n",
      "2025-09-20 20:51:16,272 - experiment_test_experiment - INFO - Epoch 1: Train Loss: 1.6194, Train Acc: 0.2400, Val Loss: 1.6343, Val Acc: 0.1000\n",
      "2025-09-20 20:51:16,274 - experiment_test_experiment - INFO - Train Epoch 2: [0/100 (0.0%)]\tLoss: 1.587221\n",
      "2025-09-20 20:51:16,280 - experiment_test_experiment - INFO - Epoch 2: Train Loss: 1.5976, Train Acc: 0.2800, Val Loss: 1.6475, Val Acc: 0.1000\n",
      "2025-09-20 20:51:16,282 - experiment_test_experiment - INFO - Running final test evaluation...\n",
      "2025-09-20 20:51:16,283 - experiment_test_experiment - INFO - Test Results:\n",
      "2025-09-20 20:51:16,283 - experiment_test_experiment - INFO -   loss: 1.6381\n",
      "2025-09-20 20:51:16,283 - experiment_test_experiment - INFO -   accuracy: 0.2000\n",
      "2025-09-20 20:51:16,284 - experiment_test_experiment - INFO - Training completed\n",
      "Experiment completed!\n",
      "2025-09-20 20:51:16,284 - experiment_test_experiment - INFO - Experiment cleanup completed\n"
     ]
    }
   ],
   "source": [
    "!python base_experiment.py"
   ]
  }
 ],
 "metadata": {
  "kernelspec": {
   "display_name": "Python 3 (ipykernel)",
   "language": "python",
   "name": "python3"
  },
  "language_info": {
   "codemirror_mode": {
    "name": "ipython",
    "version": 3
   },
   "file_extension": ".py",
   "mimetype": "text/x-python",
   "name": "python",
   "nbconvert_exporter": "python",
   "pygments_lexer": "ipython3",
   "version": "3.12.10"
  }
 },
 "nbformat": 4,
 "nbformat_minor": 5
}
