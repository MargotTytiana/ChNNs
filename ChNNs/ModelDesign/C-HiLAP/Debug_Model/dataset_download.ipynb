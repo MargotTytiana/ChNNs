{
 "cells": [
  {
   "cell_type": "code",
   "execution_count": null,
   "id": "41f581c3-e8c1-4825-a714-dfc6ade00c8f",
   "metadata": {},
   "outputs": [
    {
     "name": "stderr",
     "output_type": "stream",
     "text": [
      "devDataset/dev-clean.tar.gz: 100%|██████████| 338M/338M [00:07<00:00, 42.7MiB/s] \n"
     ]
    },
    {
     "name": "stdout",
     "output_type": "stream",
     "text": [
      "正在解压 devDataset/dev-clean.tar.gz 到 devDataset...\n",
      "解压完成：devDataset/dev-clean.tar.gz\n"
     ]
    },
    {
     "name": "stderr",
     "output_type": "stream",
     "text": [
      "devDataset/dev-other.tar.gz: 100%|██████████| 314M/314M [00:07<00:00, 42.0MiB/s] \n"
     ]
    },
    {
     "name": "stdout",
     "output_type": "stream",
     "text": [
      "正在解压 devDataset/dev-other.tar.gz 到 devDataset...\n",
      "解压完成：devDataset/dev-other.tar.gz\n"
     ]
    },
    {
     "name": "stderr",
     "output_type": "stream",
     "text": [
      "testDataset/test-clean.tar.gz: 100%|██████████| 347M/347M [00:09<00:00, 35.5MiB/s] \n"
     ]
    },
    {
     "name": "stdout",
     "output_type": "stream",
     "text": [
      "正在解压 testDataset/test-clean.tar.gz 到 testDataset...\n",
      "解压完成：testDataset/test-clean.tar.gz\n"
     ]
    },
    {
     "name": "stderr",
     "output_type": "stream",
     "text": [
      "testDataset/test-other.tar.gz: 100%|██████████| 329M/329M [00:10<00:00, 31.3MiB/s] \n"
     ]
    },
    {
     "name": "stdout",
     "output_type": "stream",
     "text": [
      "正在解压 testDataset/test-other.tar.gz 到 testDataset...\n",
      "解压完成：testDataset/test-other.tar.gz\n"
     ]
    },
    {
     "name": "stderr",
     "output_type": "stream",
     "text": [
      "dataset/train-clean-100.tar.gz:  79%|███████▉  | 5.06G/6.39G [02:07<00:29, 45.7MiB/s]"
     ]
    }
   ],
   "source": [
    "import os\n",
    "import requests\n",
    "import tarfile\n",
    "from tqdm import tqdm\n",
    "\n",
    "# 数据集文件及其对应的下载链接和目标文件夹\n",
    "files = {\n",
    "    \"dev-clean.tar.gz\": (\"http://www.openslr.org/resources/12/dev-clean.tar.gz\", \"devDataset\"),\n",
    "    \"dev-other.tar.gz\": (\"http://www.openslr.org/resources/12/dev-other.tar.gz\", \"devDataset\"),\n",
    "    \"test-clean.tar.gz\": (\"http://www.openslr.org/resources/12/test-clean.tar.gz\", \"testDataset\"),\n",
    "    \"test-other.tar.gz\": (\"http://www.openslr.org/resources/12/test-other.tar.gz\", \"testDataset\"),\n",
    "    \"train-clean-100.tar.gz\": (\"http://www.openslr.org/resources/12/train-clean-100.tar.gz\", \"dataset\"),\n",
    "    \"train-clean-360.tar.gz\": (\"http://www.openslr.org/resources/12/train-clean-360.tar.gz\", \"dataset\"),\n",
    "    \"train-other-500.tar.gz\": (\"http://www.openslr.org/resources/12/train-other-500.tar.gz\", \"dataset\")\n",
    "}\n",
    "\n",
    "# 下载函数\n",
    "def download_file(url, filepath):\n",
    "    if os.path.exists(filepath) and os.path.getsize(filepath) > 0:\n",
    "        print(f\"{filepath} 已存在，跳过下载。\")\n",
    "        return True\n",
    "    try:\n",
    "        response = requests.get(url, stream=True, timeout=60)\n",
    "        response.raise_for_status()\n",
    "        total_size = int(response.headers.get('content-length', 0))\n",
    "        block_size = 1024\n",
    "        with open(filepath, 'wb') as f, tqdm(total=total_size, unit='iB', unit_scale=True, desc=filepath) as t:\n",
    "            for data in response.iter_content(block_size):\n",
    "                t.update(len(data))\n",
    "                f.write(data)\n",
    "        return True\n",
    "    except Exception as e:\n",
    "        print(f\"下载失败：{filepath}，错误：{e}\")\n",
    "        return False\n",
    "\n",
    "# 解压函数\n",
    "def extract_tar_gz(filepath, extract_path):\n",
    "    try:\n",
    "        print(f\"正在解压 {filepath} 到 {extract_path}...\")\n",
    "        with tarfile.open(filepath, \"r:gz\") as tar:\n",
    "            tar.extractall(path=extract_path)\n",
    "        print(f\"解压完成：{filepath}\")\n",
    "    except Exception as e:\n",
    "        print(f\"解压失败：{filepath}，错误：{e}\")\n",
    "\n",
    "# 主执行逻辑\n",
    "for filename, (url, folder) in files.items():\n",
    "    os.makedirs(folder, exist_ok=True)\n",
    "    filepath = os.path.join(folder, filename)\n",
    "    if download_file(url, filepath):\n",
    "        extract_tar_gz(filepath, folder)\n"
   ]
  }
 ],
 "metadata": {
  "kernelspec": {
   "display_name": "Python 3 (ipykernel)",
   "language": "python",
   "name": "python3"
  },
  "language_info": {
   "codemirror_mode": {
    "name": "ipython",
    "version": 3
   },
   "file_extension": ".py",
   "mimetype": "text/x-python",
   "name": "python",
   "nbconvert_exporter": "python",
   "pygments_lexer": "ipython3",
   "version": "3.10.14"
  }
 },
 "nbformat": 4,
 "nbformat_minor": 5
}
