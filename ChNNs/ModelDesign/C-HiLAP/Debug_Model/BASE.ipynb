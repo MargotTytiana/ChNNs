{
 "cells": [
  {
   "cell_type": "markdown",
   "id": "c190d874-e583-4b15-8dfb-459abd0fdd52",
   "metadata": {},
   "source": [
    "### Config"
   ]
  },
  {
   "cell_type": "code",
   "execution_count": 1,
   "id": "a2cfa28d-fa8f-409a-95f4-5259489073b5",
   "metadata": {},
   "outputs": [],
   "source": [
    "# 导入配置\n",
    "from config import Config"
   ]
  },
  {
   "cell_type": "markdown",
   "id": "85e461ed-bc71-4879-b7ca-da6d48d72086",
   "metadata": {},
   "source": [
    "### Data_loader.py"
   ]
  },
  {
   "cell_type": "code",
   "execution_count": 2,
   "id": "80040d33-bae5-4a49-90ae-7bb96ca32c23",
   "metadata": {},
   "outputs": [
    {
     "name": "stdout",
     "output_type": "stream",
     "text": [
      "测试数据加载器...\n",
      "加载LibriSpeech数据集: /users/tianyuey/Project/devDataset/LibriSpeech\n",
      "处理子集: dev-clean\n",
      "在 dev-clean 中找到 2703 个.flac文件\n",
      "处理子集: dev-other\n",
      "在 dev-other 中找到 5567 个.flac文件\n",
      "找到 73 个不同的说话人\n",
      "有效文件: 5000/5000\n",
      "移除 0 个无效文件\n",
      "找到 73 个不同的说话人\n",
      "最终 train 数据集大小: 5000 个样本\n",
      "加载LibriSpeech数据集: /users/tianyuey/Project/devDataset/LibriSpeech\n",
      "处理子集: dev-clean\n",
      "在 dev-clean 中找到 2703 个.flac文件\n",
      "处理子集: dev-other\n",
      "在 dev-other 中找到 5567 个.flac文件\n",
      "找到 73 个不同的说话人\n",
      "有效文件: 557/557\n",
      "移除 0 个无效文件\n",
      "找到 73 个不同的说话人\n",
      "最终 val 数据集大小: 557 个样本\n",
      "加载LibriSpeech数据集: /users/tianyuey/Project/devDataset/LibriSpeech\n",
      "处理子集: dev-clean\n",
      "在 dev-clean 中找到 2703 个.flac文件\n",
      "处理子集: dev-other\n",
      "在 dev-other 中找到 5567 个.flac文件\n",
      "找到 73 个不同的说话人\n",
      "有效文件: 5567/5567\n",
      "移除 0 个无效文件\n",
      "找到 73 个不同的说话人\n",
      "最终 test 数据集大小: 5567 个样本\n",
      "加载LibriSpeech数据集: /users/tianyuey/Project/devDataset/LibriSpeech\n",
      "处理子集: dev-clean\n",
      "在 dev-clean 中找到 2703 个.flac文件\n",
      "处理子集: dev-other\n",
      "在 dev-other 中找到 5567 个.flac文件\n",
      "找到 73 个不同的说话人\n",
      "有效文件: 5567/5567\n",
      "移除 0 个无效文件\n",
      "找到 73 个不同的说话人\n",
      "最终 test 数据集大小: 5567 个样本\n",
      "训练集: 5000 样本\n",
      "验证集: 557 样本\n",
      "测试集: 5567 样本\n",
      "带噪声测试集: 5567 样本\n",
      "总说话人数: 73\n",
      "音频数据形状: torch.Size([16, 16000])\n",
      "标签数据形状: torch.Size([16])\n",
      "测试数据加载器...\n",
      "加载LibriSpeech数据集: /users/tianyuey/Project/devDataset/LibriSpeech\n",
      "处理子集: dev-clean\n",
      "在 dev-clean 中找到 2703 个.flac文件\n",
      "处理子集: dev-other\n",
      "在 dev-other 中找到 5567 个.flac文件\n",
      "找到 73 个不同的说话人\n",
      "有效文件: 5000/5000\n",
      "移除 0 个无效文件\n",
      "找到 73 个不同的说话人\n",
      "最终 train 数据集大小: 5000 个样本\n",
      "加载LibriSpeech数据集: /users/tianyuey/Project/devDataset/LibriSpeech\n",
      "处理子集: dev-clean\n",
      "在 dev-clean 中找到 2703 个.flac文件\n",
      "处理子集: dev-other\n",
      "在 dev-other 中找到 5567 个.flac文件\n",
      "找到 73 个不同的说话人\n",
      "有效文件: 557/557\n",
      "移除 0 个无效文件\n",
      "找到 73 个不同的说话人\n",
      "最终 val 数据集大小: 557 个样本\n",
      "加载LibriSpeech数据集: /users/tianyuey/Project/devDataset/LibriSpeech\n",
      "处理子集: dev-clean\n",
      "在 dev-clean 中找到 2703 个.flac文件\n",
      "处理子集: dev-other\n",
      "在 dev-other 中找到 5567 个.flac文件\n",
      "找到 73 个不同的说话人\n",
      "有效文件: 5567/5567\n",
      "移除 0 个无效文件\n",
      "找到 73 个不同的说话人\n",
      "最终 test 数据集大小: 5567 个样本\n",
      "加载LibriSpeech数据集: /users/tianyuey/Project/devDataset/LibriSpeech\n",
      "处理子集: dev-clean\n",
      "在 dev-clean 中找到 2703 个.flac文件\n",
      "处理子集: dev-other\n",
      "在 dev-other 中找到 5567 个.flac文件\n",
      "找到 73 个不同的说话人\n",
      "有效文件: 5567/5567\n",
      "移除 0 个无效文件\n",
      "找到 73 个不同的说话人\n",
      "最终 test 数据集大小: 5567 个样本\n",
      "训练集: 5000 样本\n",
      "验证集: 557 样本\n",
      "测试集: 5567 样本\n",
      "带噪声测试集: 5567 样本\n",
      "总说话人数: 73\n",
      "音频数据形状: torch.Size([16, 16000])\n",
      "标签数据形状: torch.Size([16])\n"
     ]
    }
   ],
   "source": [
    "import os\n",
    "import random\n",
    "import librosa\n",
    "import numpy as np\n",
    "import os\n",
    "import random\n",
    "import librosa\n",
    "import numpy as np\n",
    "import torch\n",
    "from torch.utils.data import Dataset, DataLoader\n",
    "from sklearn.model_selection import train_test_split\n",
    "import soundfile as sf\n",
    "from tqdm import tqdm\n",
    "\n",
    "\n",
    "# 噪声生成与注入\n",
    "class NoiseInjector:\n",
    "    @staticmethod\n",
    "    def generate_white_noise(length):\n",
    "        return np.random.randn(length).astype(np.float32)\n",
    "\n",
    "    @staticmethod\n",
    "    def generate_babble_noise(length, num_speakers=3):\n",
    "        noise = np.zeros(length, dtype=np.float32)\n",
    "        for _ in range(num_speakers):\n",
    "            start = random.randint(0, max(0, length - Config.SAMPLE_RATE))\n",
    "            end = min(start + Config.SAMPLE_RATE, length)\n",
    "            noise[start:end] += np.random.randn(end - start).astype(np.float32)\n",
    "        return noise / num_speakers\n",
    "\n",
    "    @staticmethod\n",
    "    def add_noise(signal, noise_type=\"white\", snr_db=10):\n",
    "        if len(signal) == 0:\n",
    "            return signal\n",
    "\n",
    "        signal_power = np.mean(signal ** 2)\n",
    "        if signal_power < 1e-10:\n",
    "            return signal\n",
    "\n",
    "        signal_db = 10 * np.log10(signal_power)\n",
    "\n",
    "        if noise_type == \"white\":\n",
    "            noise = NoiseInjector.generate_white_noise(len(signal))\n",
    "        elif noise_type == \"babble\":\n",
    "            noise = NoiseInjector.generate_babble_noise(len(signal))\n",
    "        else:\n",
    "            raise ValueError(f\"不支持的噪声类型：{noise_type}\")\n",
    "\n",
    "        noise_power = np.mean(noise ** 2)\n",
    "        noise_db = -100 if noise_power < 1e-10 else 10 * np.log10(noise_power)\n",
    "\n",
    "        target_noise_db = signal_db - snr_db\n",
    "        noise_scale = 10 ** ((target_noise_db - noise_db) / 20)\n",
    "        noisy_signal = signal + noise * noise_scale\n",
    "\n",
    "        # 归一化\n",
    "        max_val = np.max(np.abs(noisy_signal))\n",
    "        if max_val > 1e-5:\n",
    "            noisy_signal = noisy_signal / max_val\n",
    "\n",
    "        return noisy_signal\n",
    "\n",
    "# 数据集类\n",
    "class SpeakerRecognitionDataset(Dataset):\n",
    "    def __init__(self, split=\"train\", add_noise=False, noise_type=\"white\", snr_db=10):\n",
    "        self.split = split\n",
    "        self.add_noise = add_noise\n",
    "        self.noise_type = noise_type\n",
    "        self.snr_db = snr_db\n",
    "\n",
    "        # 加载数据集\n",
    "        self.audio_paths, self.labels = self._load_dataset()\n",
    "        self.speaker_to_idx = self._build_speaker_map()\n",
    "\n",
    "        # 调试模式\n",
    "        if Config.DEBUG_MODE:\n",
    "            if split == \"train\":\n",
    "                self.audio_paths = self.audio_paths[:Config.DEBUG_SAMPLE_SIZE]\n",
    "                self.labels = self.labels[:Config.DEBUG_SAMPLE_SIZE]\n",
    "            elif split == \"val\":\n",
    "                self.audio_paths = self.audio_paths[:min(Config.DEBUG_SAMPLE_SIZE // 2, len(self.audio_paths))]\n",
    "                self.labels = self.labels[:min(Config.DEBUG_SAMPLE_SIZE // 2, len(self.labels))]\n",
    "\n",
    "        # 验证数据集\n",
    "        self._validate_dataset()\n",
    "        print(f\"最终 {split} 数据集大小: {len(self.audio_paths)} 个样本\")\n",
    "\n",
    "    def _load_dataset(self):\n",
    "        audio_paths = []\n",
    "        labels = []\n",
    "\n",
    "        root = Config.LIBRISPEECH_PATH\n",
    "        if not os.path.exists(root):\n",
    "            print(f\"错误: LibriSpeech路径不存在 - {root}\")\n",
    "            return [], []\n",
    "\n",
    "        print(f\"加载LibriSpeech数据集: {root}\")\n",
    "\n",
    "        # 只遍历 dev-clean 和 dev-other\n",
    "        for subset_dir in [\"dev-clean\", \"dev-other\"]:\n",
    "            subset_path = os.path.join(root, subset_dir)\n",
    "            if not os.path.isdir(subset_path):\n",
    "                continue\n",
    "\n",
    "            print(f\"处理子集: {subset_dir}\")\n",
    "            for speaker_dir in os.listdir(subset_path):\n",
    "                speaker_path = os.path.join(subset_path, speaker_dir)\n",
    "                if not os.path.isdir(speaker_path):\n",
    "                    continue\n",
    "\n",
    "                for chapter_dir in os.listdir(speaker_path):\n",
    "                    chapter_path = os.path.join(speaker_path, chapter_dir)\n",
    "                    if not os.path.isdir(chapter_path):\n",
    "                        continue\n",
    "\n",
    "                    for file in os.listdir(chapter_path):\n",
    "                        if file.endswith(\".flac\"):\n",
    "                            full_path = os.path.join(chapter_path, file)\n",
    "                            audio_paths.append(full_path)\n",
    "                            labels.append(speaker_dir)\n",
    "\n",
    "            print(f\"在 {subset_dir} 中找到 {len(audio_paths)} 个.flac文件\")\n",
    "\n",
    "        # 分割训练/验证\n",
    "        if self.split != \"test\" and len(audio_paths) > 0:\n",
    "            train_paths, val_paths, train_labels, val_labels = train_test_split(\n",
    "                audio_paths, labels, test_size=Config.VALID_RATIO, random_state=42\n",
    "            )\n",
    "            if self.split == \"train\":\n",
    "                return train_paths, train_labels\n",
    "            else:\n",
    "                return val_paths, val_labels\n",
    "\n",
    "        return audio_paths, labels\n",
    "\n",
    "    def _build_speaker_map(self):\n",
    "        unique_speakers = sorted(set(self.labels))\n",
    "        print(f\"找到 {len(unique_speakers)} 个不同的说话人\")\n",
    "        return {speaker: idx for idx, speaker in enumerate(unique_speakers)}\n",
    "\n",
    "    def _validate_dataset(self):\n",
    "        if len(self.audio_paths) == 0:\n",
    "            print(f\"警告: {self.split}数据集为空\")\n",
    "            return\n",
    "\n",
    "        valid_count = 0\n",
    "        invalid_indices = []\n",
    "        for i in range(len(self.audio_paths) - 1, -1, -1):\n",
    "            path = self.audio_paths[i]\n",
    "            try:\n",
    "                if not os.path.exists(path):\n",
    "                    raise FileNotFoundError(\"文件不存在\")\n",
    "\n",
    "                if os.path.getsize(path) < 1024:\n",
    "                    raise ValueError(\"文件太小可能已损坏\")\n",
    "\n",
    "                if path.endswith('.flac'):\n",
    "                    signal, sr = sf.read(path)\n",
    "                else:\n",
    "                    signal, sr = librosa.load(path, sr=Config.SAMPLE_RATE, mono=True)\n",
    "\n",
    "                if len(signal) < Config.SAMPLE_RATE // 2:\n",
    "                    raise ValueError(\"音频过短\")\n",
    "\n",
    "                if np.max(np.abs(signal)) < 1e-5:\n",
    "                    raise ValueError(\"接近静音\")\n",
    "\n",
    "                valid_count += 1\n",
    "            except Exception as e:\n",
    "                invalid_indices.append(i)\n",
    "                print(f\"无效文件: {path} - {str(e)}\")\n",
    "\n",
    "        for i in invalid_indices:\n",
    "            self.audio_paths.pop(i)\n",
    "            self.labels.pop(i)\n",
    "\n",
    "        print(f\"有效文件: {valid_count}/{len(self.audio_paths) + len(invalid_indices)}\")\n",
    "        print(f\"移除 {len(invalid_indices)} 个无效文件\")\n",
    "        self.speaker_to_idx = self._build_speaker_map()\n",
    "\n",
    "    def __len__(self):\n",
    "        return len(self.audio_paths)\n",
    "\n",
    "    def __getitem__(self, idx):\n",
    "        path = self.audio_paths[idx]\n",
    "        speaker_id = self.labels[idx]\n",
    "        label = self.speaker_to_idx[speaker_id]\n",
    "\n",
    "        try:\n",
    "            if path.endswith('.flac'):\n",
    "                signal, sr = sf.read(path)\n",
    "                if sr != Config.SAMPLE_RATE:\n",
    "                    signal = librosa.resample(signal, orig_sr=sr, target_sr=Config.SAMPLE_RATE)\n",
    "            else:\n",
    "                signal, sr = librosa.load(path, sr=Config.SAMPLE_RATE, mono=True)\n",
    "        except Exception as e:\n",
    "            print(f\"加载音频错误 {path}: {str(e)}\")\n",
    "            signal = np.zeros(Config.MAX_SAMPLES, dtype=np.float32)\n",
    "\n",
    "        if len(signal) > Config.MAX_SAMPLES:\n",
    "            signal = signal[:Config.MAX_SAMPLES]\n",
    "        elif len(signal) < Config.MAX_SAMPLES:\n",
    "            signal = np.pad(signal, (0, Config.MAX_SAMPLES - len(signal)), mode='constant')\n",
    "\n",
    "        max_val = np.max(np.abs(signal))\n",
    "        if max_val > 1e-5:\n",
    "            signal = signal / max_val\n",
    "\n",
    "        if self.add_noise and self.split == \"train\":\n",
    "            noise_type = random.choice(Config.NOISE_TYPES)\n",
    "            snr_db = random.choice(Config.SNR_LEVELS)\n",
    "            signal = NoiseInjector.add_noise(signal, noise_type, snr_db)\n",
    "\n",
    "        return torch.FloatTensor(signal), label\n",
    "\n",
    "# 数据加载器\n",
    "def get_dataloaders(batch_size=None):\n",
    "    if batch_size is None:\n",
    "        batch_size = Config.BATCH_SIZE\n",
    "\n",
    "    train_dataset = SpeakerRecognitionDataset(split=\"train\")\n",
    "    val_dataset = SpeakerRecognitionDataset(split=\"val\")\n",
    "    test_dataset = SpeakerRecognitionDataset(split=\"test\")\n",
    "\n",
    "    if len(train_dataset) == 0 and len(test_dataset) > 0:\n",
    "        print(\"警告: 训练集为空，使用测试集作为训练集\")\n",
    "        train_dataset = test_dataset\n",
    "\n",
    "    noisy_test_dataset = SpeakerRecognitionDataset(\n",
    "        split=\"test\", add_noise=True, noise_type=\"white\", snr_db=5\n",
    "    )\n",
    "\n",
    "    print(f\"训练集: {len(train_dataset)} 样本\")\n",
    "    print(f\"验证集: {len(val_dataset)} 样本\")\n",
    "    print(f\"测试集: {len(test_dataset)} 样本\")\n",
    "    print(f\"带噪声测试集: {len(noisy_test_dataset)} 样本\")\n",
    "    print(f\"总说话人数: {len(train_dataset.speaker_to_idx)}\")\n",
    "\n",
    "    dataloaders = {\n",
    "        \"train\": DataLoader(train_dataset, batch_size=batch_size, shuffle=True,\n",
    "                            num_workers=Config.NUM_WORKERS, pin_memory=True),\n",
    "        \"val\": DataLoader(val_dataset, batch_size=batch_size, shuffle=False,\n",
    "                          num_workers=Config.NUM_WORKERS, pin_memory=True),\n",
    "        \"test\": DataLoader(test_dataset, batch_size=batch_size, shuffle=False,\n",
    "                           num_workers=Config.NUM_WORKERS, pin_memory=True),\n",
    "        \"noisy_test\": DataLoader(noisy_test_dataset, batch_size=batch_size, shuffle=False,\n",
    "                                 num_workers=Config.NUM_WORKERS, pin_memory=True),\n",
    "    }\n",
    "    return dataloaders\n",
    "\n",
    "if __name__ == \"__main__\":\n",
    "    print(\"测试数据加载器...\")\n",
    "    dataloaders = get_dataloaders()\n",
    "    x, y = next(iter(dataloaders[\"train\"]))\n",
    "    print(f\"音频数据形状: {x.shape}\")\n",
    "    print(f\"标签数据形状: {y.shape}\")"
   ]
  },
  {
   "cell_type": "markdown",
   "id": "d7efa253-d46c-49c3-8fed-8ad7be1d2069",
   "metadata": {},
   "source": [
    "### c-hilap-model.py"
   ]
  },
  {
   "cell_type": "code",
   "execution_count": 3,
   "id": "9a46121c-fc40-4364-8d03-6c38726db6ac",
   "metadata": {},
   "outputs": [
    {
     "name": "stdout",
     "output_type": "stream",
     "text": [
      "模型结构:\n",
      "CHiLAPModel(\n",
      "  (feature_extractor): Sequential(\n",
      "    (0): Conv1d(1, 256, kernel_size=(5,), stride=(2,), padding=(2,))\n",
      "    (1): BatchNorm1d(256, eps=1e-05, momentum=0.1, affine=True, track_running_stats=True)\n",
      "    (2): PReLU(num_parameters=1)\n",
      "    (3): Conv1d(256, 256, kernel_size=(5,), stride=(2,), padding=(2,))\n",
      "    (4): BatchNorm1d(256, eps=1e-05, momentum=0.1, affine=True, track_running_stats=True)\n",
      "    (5): PReLU(num_parameters=1)\n",
      "    (6): Conv1d(256, 256, kernel_size=(5,), stride=(2,), padding=(2,))\n",
      "    (7): BatchNorm1d(256, eps=1e-05, momentum=0.1, affine=True, track_running_stats=True)\n",
      "    (8): PReLU(num_parameters=1)\n",
      "  )\n",
      "  (chaos_layer): ChaoticStimulus(\n",
      "    (chaos_transform): Sequential(\n",
      "      (0): Conv1d(256, 256, kernel_size=(3,), stride=(1,), padding=(1,))\n",
      "      (1): BatchNorm1d(256, eps=1e-05, momentum=0.1, affine=True, track_running_stats=True)\n",
      "      (2): PReLU(num_parameters=1)\n",
      "      (3): Conv1d(256, 256, kernel_size=(3,), stride=(1,), padding=(1,))\n",
      "      (4): BatchNorm1d(256, eps=1e-05, momentum=0.1, affine=True, track_running_stats=True)\n",
      "      (5): PReLU(num_parameters=1)\n",
      "    )\n",
      "  )\n",
      "  (attention): SimpleAttention(\n",
      "    (attention): Sequential(\n",
      "      (0): Conv1d(256, 1, kernel_size=(1,), stride=(1,))\n",
      "      (1): Softmax(dim=2)\n",
      "    )\n",
      "  )\n",
      "  (tdnn_block): Sequential(\n",
      "    (0): Conv1d(256, 256, kernel_size=(3,), stride=(1,), padding=(1,))\n",
      "    (1): BatchNorm1d(256, eps=1e-05, momentum=0.1, affine=True, track_running_stats=True)\n",
      "    (2): PReLU(num_parameters=1)\n",
      "    (3): Conv1d(256, 256, kernel_size=(3,), stride=(1,), padding=(2,), dilation=(2,))\n",
      "    (4): BatchNorm1d(256, eps=1e-05, momentum=0.1, affine=True, track_running_stats=True)\n",
      "    (5): PReLU(num_parameters=1)\n",
      "  )\n",
      "  (pooling): StatisticalPooling()\n",
      "  (embedding): Sequential(\n",
      "    (0): Linear(in_features=512, out_features=128, bias=True)\n",
      "    (1): BatchNorm1d(128, eps=1e-05, momentum=0.1, affine=True, track_running_stats=True)\n",
      "    (2): PReLU(num_parameters=1)\n",
      "    (3): Dropout(p=0.2, inplace=False)\n",
      "  )\n",
      "  (classifier): Linear(in_features=128, out_features=73, bias=True)\n",
      ")\n",
      "\n",
      "测试前向传播:\n",
      "输入形状: torch.Size([2, 1, 16000])\n",
      "嵌入向量形状: torch.Size([2, 128])\n",
      "分类输出形状: torch.Size([2, 73])\n",
      "前向传播成功!\n"
     ]
    }
   ],
   "source": [
    "import torch\n",
    "import torch.nn as nn\n",
    "import torch.nn.functional as F\n",
    "import numpy as np\n",
    "\n",
    "# 导入配置\n",
    "from config import Config\n",
    "\n",
    "# 简化混沌激励模块\n",
    "class ChaoticStimulus(nn.Module):\n",
    "    def __init__(self, input_dim, output_dim):\n",
    "        \"\"\"\n",
    "        简化的混沌激励模块\n",
    "        :param input_dim: 输入维度\n",
    "        :param output_dim: 输出维度\n",
    "        \"\"\"\n",
    "        super().__init__()\n",
    "        self.chaos_transform = nn.Sequential(\n",
    "            nn.Conv1d(input_dim, output_dim, kernel_size=3, padding=1),\n",
    "            nn.BatchNorm1d(output_dim),\n",
    "            nn.PReLU(),\n",
    "            nn.Conv1d(output_dim, output_dim, kernel_size=3, padding=1),\n",
    "            nn.BatchNorm1d(output_dim),\n",
    "            nn.PReLU()\n",
    "        )\n",
    "\n",
    "        # 混沌扰动参数\n",
    "        self.chaos_factor = nn.Parameter(torch.tensor(0.1))\n",
    "\n",
    "    def forward(self, x):\n",
    "        \"\"\"\n",
    "        前向传播\n",
    "        :param x: 输入特征 [batch_size, channels, seq_len]\n",
    "        :return: 混沌处理后的特征 [batch_size, channels, seq_len]\n",
    "        \"\"\"\n",
    "        # 常规特征变换\n",
    "        transformed = self.chaos_transform(x)\n",
    "\n",
    "        # 添加混沌扰动\n",
    "        batch_size, channels, seq_len = transformed.size()\n",
    "        if self.training:  # 仅在训练时添加混沌扰动\n",
    "            # 生成与特征相同形状的混沌噪声\n",
    "            chaos_noise = torch.randn_like(transformed) * self.chaos_factor\n",
    "            # 应用非线性激活增强混沌特性\n",
    "            chaos_noise = torch.tanh(chaos_noise)\n",
    "            transformed = transformed + chaos_noise\n",
    "\n",
    "        return transformed\n",
    "\n",
    "# 简化注意力机制\n",
    "class SimpleAttention(nn.Module):\n",
    "    def __init__(self, input_dim):\n",
    "        \"\"\"\n",
    "        简化的注意力机制\n",
    "        :param input_dim: 输入维度\n",
    "        \"\"\"\n",
    "        super().__init__()\n",
    "        self.attention = nn.Sequential(\n",
    "            nn.Conv1d(input_dim, 1, kernel_size=1),\n",
    "            nn.Softmax(dim=2)\n",
    "        )\n",
    "\n",
    "    def forward(self, x):\n",
    "        \"\"\"\n",
    "        前向传播\n",
    "        :param x: 输入特征 [batch_size, channels, seq_len]\n",
    "        :return: 注意力加权后的特征 [batch_size, channels, seq_len]\n",
    "        \"\"\"\n",
    "        # 计算注意力权重 [batch_size, 1, seq_len]\n",
    "        attn_weights = self.attention(x)\n",
    "\n",
    "        # 应用注意力权重\n",
    "        return x * attn_weights\n",
    "\n",
    "# 统计池化层\n",
    "class StatisticalPooling(nn.Module):\n",
    "    def __init__(self):\n",
    "        super().__init__()\n",
    "\n",
    "    def forward(self, x):\n",
    "        \"\"\"\n",
    "        前向传播\n",
    "        :param x: 输入特征 [batch_size, channels, seq_len]\n",
    "        :return: 池化后的特征 [batch_size, channels*2]\n",
    "        \"\"\"\n",
    "        # 计算均值和标准差\n",
    "        mean = torch.mean(x, dim=2)\n",
    "        std = torch.std(x, dim=2)\n",
    "\n",
    "        # 拼接均值和标准差\n",
    "        return torch.cat((mean, std), dim=1)\n",
    "\n",
    "# 完整的C-HiLAP模型（简化版）\n",
    "class CHiLAPModel(nn.Module):\n",
    "    def __init__(self, input_dim=Config.INPUT_DIM, hidden_dim=Config.HIDDEN_DIM,\n",
    "                 embedding_dim=Config.EMBEDDING_DIM, num_classes=None):\n",
    "        \"\"\"\n",
    "        混沌层次吸引子传播(C-HiLAP)模型 - 简化版\n",
    "        \"\"\"\n",
    "        super().__init__()\n",
    "\n",
    "        # 若未传入num_classes，可设置一个默认值（但实际使用时必须从数据集获取后传入）\n",
    "        if num_classes is None:\n",
    "            raise ValueError(\"必须指定num_classes（说话人数量），请从数据集获取后传入\")\n",
    "\n",
    "        # 特征提取层\n",
    "        self.feature_extractor = nn.Sequential(\n",
    "            nn.Conv1d(input_dim, hidden_dim, kernel_size=5, stride=2, padding=2),\n",
    "            nn.BatchNorm1d(hidden_dim),\n",
    "            nn.PReLU(),\n",
    "            nn.Conv1d(hidden_dim, hidden_dim, kernel_size=5, stride=2, padding=2),\n",
    "            nn.BatchNorm1d(hidden_dim),\n",
    "            nn.PReLU(),\n",
    "            nn.Conv1d(hidden_dim, hidden_dim, kernel_size=5, stride=2, padding=2),\n",
    "            nn.BatchNorm1d(hidden_dim),\n",
    "            nn.PReLU()\n",
    "        )\n",
    "\n",
    "        # 混沌激励模块\n",
    "        self.chaos_layer = ChaoticStimulus(hidden_dim, hidden_dim)\n",
    "\n",
    "        # 注意力层\n",
    "        self.attention = SimpleAttention(hidden_dim)\n",
    "\n",
    "        # TDNN层\n",
    "        self.tdnn_block = nn.Sequential(\n",
    "            nn.Conv1d(hidden_dim, hidden_dim, kernel_size=3, dilation=1, padding=1),\n",
    "            nn.BatchNorm1d(hidden_dim),\n",
    "            nn.PReLU(),\n",
    "            nn.Conv1d(hidden_dim, hidden_dim, kernel_size=3, dilation=2, padding=2),\n",
    "            nn.BatchNorm1d(hidden_dim),\n",
    "            nn.PReLU()\n",
    "        )\n",
    "\n",
    "        # 池化层\n",
    "        self.pooling = StatisticalPooling()\n",
    "\n",
    "        # 嵌入层\n",
    "        self.embedding = nn.Sequential(\n",
    "            nn.Linear(hidden_dim * 2, embedding_dim),  # 统计池化输出channels*2\n",
    "            nn.BatchNorm1d(embedding_dim),\n",
    "            nn.PReLU(),\n",
    "            nn.Dropout(0.2)\n",
    "        )\n",
    "\n",
    "        # 分类器\n",
    "        self.classifier = nn.Linear(embedding_dim, num_classes)\n",
    "\n",
    "    def forward(self, x):\n",
    "        \"\"\"\n",
    "        前向传播\n",
    "        :param x: 输入特征 [batch_size, channels, seq_len] 或 [batch_size, seq_len, channels]\n",
    "        :return: 嵌入向量和分类结果\n",
    "        \"\"\"\n",
    "        # 检查输入维度并转换为正确的格式 [batch_size, channels, seq_len]\n",
    "        if x.dim() == 3:\n",
    "            # 如果是 [batch_size, seq_len, channels] 格式\n",
    "            if x.size(1) > x.size(2):  # 序列长度应该大于通道数\n",
    "                x = x.permute(0, 2, 1)  # 转换为 [batch_size, channels, seq_len]\n",
    "\n",
    "        # 限制序列长度防止内存溢出\n",
    "        seq_len = x.size(2)\n",
    "        if seq_len > Config.MAX_SEQ_LEN:\n",
    "            x = x[:, :, :Config.MAX_SEQ_LEN]\n",
    "\n",
    "        # 特征提取\n",
    "        x = self.feature_extractor(x)\n",
    "\n",
    "        # 混沌处理\n",
    "        x = self.chaos_layer(x)\n",
    "\n",
    "        # 注意力加权\n",
    "        x = self.attention(x)\n",
    "\n",
    "        # TDNN处理\n",
    "        x = self.tdnn_block(x)\n",
    "\n",
    "        # 池化\n",
    "        x = self.pooling(x)\n",
    "\n",
    "        # 嵌入向量\n",
    "        embedding = self.embedding(x)\n",
    "\n",
    "        # 分类\n",
    "        logits = self.classifier(embedding)\n",
    "\n",
    "        return embedding, logits\n",
    "\n",
    "# 测试代码\n",
    "if __name__ == \"__main__\":\n",
    "    # 创建模型实例\n",
    "    model = CHiLAPModel(num_classes=73)  # 需要传入num_classes参数\n",
    "\n",
    "    print(\"模型结构:\")\n",
    "    print(model)\n",
    "\n",
    "    # 生成随机输入（使用较小的序列长度进行测试）\n",
    "    batch_size = 2\n",
    "    seq_len = Config.MAX_SEQ_LEN\n",
    "    # 正确的输入格式：[batch_size, channels, seq_len]\n",
    "    x = torch.randn(batch_size, 1, seq_len)\n",
    "\n",
    "    print(f\"\\n测试前向传播:\")\n",
    "    print(f\"输入形状: {x.shape}\")\n",
    "\n",
    "    # 前向传播\n",
    "    try:\n",
    "        embedding, logits = model(x)\n",
    "        print(f\"嵌入向量形状: {embedding.shape}\")\n",
    "        print(f\"分类输出形状: {logits.shape}\")\n",
    "        print(\"前向传播成功!\")\n",
    "    except Exception as e:\n",
    "        print(f\"前向传播错误: {e}\")\n",
    "        import traceback\n",
    "        traceback.print_exc()"
   ]
  },
  {
   "cell_type": "markdown",
   "id": "e0d8ca75-35de-4953-843e-6d314674d879",
   "metadata": {},
   "source": [
    "### trainer.py"
   ]
  },
  {
   "cell_type": "code",
   "execution_count": 4,
   "id": "d5f48cf4-3613-4379-806d-988639501090",
   "metadata": {},
   "outputs": [
    {
     "name": "stdout",
     "output_type": "stream",
     "text": [
      "创建数据加载器...\n",
      "加载LibriSpeech数据集: /users/tianyuey/Project/devDataset/LibriSpeech\n",
      "处理子集: dev-clean\n",
      "在 dev-clean 中找到 2703 个.flac文件\n",
      "处理子集: dev-other\n",
      "在 dev-other 中找到 5567 个.flac文件\n",
      "找到 73 个不同的说话人\n",
      "有效文件: 5000/5000\n",
      "移除 0 个无效文件\n",
      "找到 73 个不同的说话人\n",
      "最终 train 数据集大小: 5000 个样本\n",
      "加载LibriSpeech数据集: /users/tianyuey/Project/devDataset/LibriSpeech\n",
      "处理子集: dev-clean\n",
      "在 dev-clean 中找到 2703 个.flac文件\n",
      "处理子集: dev-other\n",
      "在 dev-other 中找到 5567 个.flac文件\n",
      "找到 73 个不同的说话人\n",
      "有效文件: 557/557\n",
      "移除 0 个无效文件\n",
      "找到 73 个不同的说话人\n",
      "最终 val 数据集大小: 557 个样本\n",
      "加载LibriSpeech数据集: /users/tianyuey/Project/devDataset/LibriSpeech\n",
      "处理子集: dev-clean\n",
      "在 dev-clean 中找到 2703 个.flac文件\n",
      "处理子集: dev-other\n",
      "在 dev-other 中找到 5567 个.flac文件\n",
      "找到 73 个不同的说话人\n",
      "有效文件: 5567/5567\n",
      "移除 0 个无效文件\n",
      "找到 73 个不同的说话人\n",
      "最终 test 数据集大小: 5567 个样本\n",
      "加载LibriSpeech数据集: /users/tianyuey/Project/devDataset/LibriSpeech\n",
      "处理子集: dev-clean\n",
      "在 dev-clean 中找到 2703 个.flac文件\n",
      "处理子集: dev-other\n",
      "在 dev-other 中找到 5567 个.flac文件\n",
      "找到 73 个不同的说话人\n",
      "有效文件: 5567/5567\n",
      "移除 0 个无效文件\n",
      "找到 73 个不同的说话人\n",
      "最终 test 数据集大小: 5567 个样本\n",
      "训练集: 5000 样本\n",
      "验证集: 557 样本\n",
      "测试集: 5567 样本\n",
      "带噪声测试集: 5567 样本\n",
      "总说话人数: 73\n",
      "训练集批次数: 313\n",
      "验证集批次数: 35\n",
      "测试集批次数: 348\n",
      "数据集中实际说话人数量（类别数）: 73\n",
      "创建模型和训练器...\n",
      "使用设备: cuda\n",
      "模型预期输入长度: 16000\n",
      "测试前向传播...\n",
      "原始输入形状: torch.Size([16, 16000]), 标签形状: torch.Size([16])\n",
      "处理后输入形状: torch.Size([16, 1, 16000])\n",
      "嵌入形状: torch.Size([16, 128]), 输出形状: torch.Size([16, 73])\n",
      "前向传播测试成功!\n",
      "开始训练...\n",
      "开始训练...\n",
      "训练集批次: 313, 验证集批次: 35\n"
     ]
    },
    {
     "name": "stderr",
     "output_type": "stream",
     "text": [
      "/usr/local/lib64/python3.12/site-packages/torch/optim/lr_scheduler.py:182: UserWarning: Detected call of `lr_scheduler.step()` before `optimizer.step()`. In PyTorch 1.1.0 and later, you should call them in the opposite order: `optimizer.step()` before `lr_scheduler.step()`.  Failure to do this will result in PyTorch skipping the first value of the learning rate schedule. See more details at https://pytorch.org/docs/stable/optim.html#how-to-adjust-learning-rate\n",
      "  warnings.warn(\n",
      "Epoch 1, Loss: 4.2879, Acc: 3.20%: 100%|██████████| 313/313 [00:30<00:00, 10.21it/s]"
     ]
    },
    {
     "name": "stdout",
     "output_type": "stream",
     "text": [
      "Epoch 1/500, Train Loss: 4.2878, Train Acc: 3.20%\n"
     ]
    },
    {
     "name": "stderr",
     "output_type": "stream",
     "text": [
      "\n"
     ]
    },
    {
     "name": "stdout",
     "output_type": "stream",
     "text": [
      "Epoch 1, Val Loss: 4.2943, Val Acc: 4.49%\n",
      "当前学习率: 0.010000\n",
      "保存最佳模型，验证准确率: 4.49%\n"
     ]
    },
    {
     "name": "stderr",
     "output_type": "stream",
     "text": [
      "Epoch 2, Loss: 3.9846, Acc: 5.43%: 100%|██████████| 313/313 [00:29<00:00, 10.55it/s]"
     ]
    },
    {
     "name": "stdout",
     "output_type": "stream",
     "text": [
      "Epoch 2/500, Train Loss: 3.9835, Train Acc: 5.44%\n"
     ]
    },
    {
     "name": "stderr",
     "output_type": "stream",
     "text": [
      "\n"
     ]
    },
    {
     "name": "stdout",
     "output_type": "stream",
     "text": [
      "Epoch 2, Val Loss: 3.9189, Val Acc: 4.67%\n",
      "当前学习率: 0.010000\n",
      "保存最佳模型，验证准确率: 4.67%\n"
     ]
    },
    {
     "name": "stderr",
     "output_type": "stream",
     "text": [
      "Epoch 3, Loss: 3.8470, Acc: 6.55%: 100%|██████████| 313/313 [00:29<00:00, 10.57it/s]"
     ]
    },
    {
     "name": "stdout",
     "output_type": "stream",
     "text": [
      "Epoch 3/500, Train Loss: 3.8472, Train Acc: 6.54%\n"
     ]
    },
    {
     "name": "stderr",
     "output_type": "stream",
     "text": [
      "\n"
     ]
    },
    {
     "name": "stdout",
     "output_type": "stream",
     "text": [
      "Epoch 3, Val Loss: 3.8246, Val Acc: 7.00%\n",
      "当前学习率: 0.010000\n",
      "保存最佳模型，验证准确率: 7.00%\n"
     ]
    },
    {
     "name": "stderr",
     "output_type": "stream",
     "text": [
      "Epoch 4, Loss: 3.8319, Acc: 6.71%: 100%|██████████| 313/313 [00:29<00:00, 10.58it/s]"
     ]
    },
    {
     "name": "stdout",
     "output_type": "stream",
     "text": [
      "Epoch 4/500, Train Loss: 3.8336, Train Acc: 6.70%\n"
     ]
    },
    {
     "name": "stderr",
     "output_type": "stream",
     "text": [
      "\n"
     ]
    },
    {
     "name": "stdout",
     "output_type": "stream",
     "text": [
      "Epoch 4, Val Loss: 3.7173, Val Acc: 8.98%\n",
      "当前学习率: 0.010000\n",
      "保存最佳模型，验证准确率: 8.98%\n"
     ]
    },
    {
     "name": "stderr",
     "output_type": "stream",
     "text": [
      "Epoch 5, Loss: 3.7633, Acc: 7.64%: 100%|██████████| 313/313 [00:29<00:00, 10.58it/s]"
     ]
    },
    {
     "name": "stdout",
     "output_type": "stream",
     "text": [
      "Epoch 5/500, Train Loss: 3.7624, Train Acc: 7.64%\n"
     ]
    },
    {
     "name": "stderr",
     "output_type": "stream",
     "text": [
      "\n"
     ]
    },
    {
     "name": "stdout",
     "output_type": "stream",
     "text": [
      "Epoch 5, Val Loss: 3.7060, Val Acc: 7.00%\n",
      "当前学习率: 0.010000\n"
     ]
    },
    {
     "name": "stderr",
     "output_type": "stream",
     "text": [
      "Epoch 6, Loss: 3.7326, Acc: 7.98%: 100%|██████████| 313/313 [00:29<00:00, 10.44it/s]"
     ]
    },
    {
     "name": "stdout",
     "output_type": "stream",
     "text": [
      "Epoch 6/500, Train Loss: 3.7310, Train Acc: 8.02%\n"
     ]
    },
    {
     "name": "stderr",
     "output_type": "stream",
     "text": [
      "\n"
     ]
    },
    {
     "name": "stdout",
     "output_type": "stream",
     "text": [
      "Epoch 6, Val Loss: 3.6323, Val Acc: 8.08%\n",
      "当前学习率: 0.010000\n"
     ]
    },
    {
     "name": "stderr",
     "output_type": "stream",
     "text": [
      "Epoch 7, Loss: 3.7107, Acc: 8.34%: 100%|██████████| 313/313 [00:29<00:00, 10.58it/s]"
     ]
    },
    {
     "name": "stdout",
     "output_type": "stream",
     "text": [
      "Epoch 7/500, Train Loss: 3.7108, Train Acc: 8.32%\n"
     ]
    },
    {
     "name": "stderr",
     "output_type": "stream",
     "text": [
      "\n"
     ]
    },
    {
     "name": "stdout",
     "output_type": "stream",
     "text": [
      "Epoch 7, Val Loss: 3.7878, Val Acc: 6.64%\n",
      "当前学习率: 0.010000\n"
     ]
    },
    {
     "name": "stderr",
     "output_type": "stream",
     "text": [
      "Epoch 8, Loss: 3.6578, Acc: 8.74%: 100%|██████████| 313/313 [00:29<00:00, 10.59it/s]"
     ]
    },
    {
     "name": "stdout",
     "output_type": "stream",
     "text": [
      "Epoch 8/500, Train Loss: 3.6602, Train Acc: 8.72%\n"
     ]
    },
    {
     "name": "stderr",
     "output_type": "stream",
     "text": [
      "\n"
     ]
    },
    {
     "name": "stdout",
     "output_type": "stream",
     "text": [
      "Epoch 8, Val Loss: 3.5876, Val Acc: 8.26%\n",
      "当前学习率: 0.010000\n"
     ]
    },
    {
     "name": "stderr",
     "output_type": "stream",
     "text": [
      "Epoch 9, Loss: 3.6678, Acc: 8.78%: 100%|██████████| 313/313 [00:29<00:00, 10.57it/s]"
     ]
    },
    {
     "name": "stdout",
     "output_type": "stream",
     "text": [
      "Epoch 9/500, Train Loss: 3.6691, Train Acc: 8.74%\n"
     ]
    },
    {
     "name": "stderr",
     "output_type": "stream",
     "text": [
      "\n"
     ]
    },
    {
     "name": "stdout",
     "output_type": "stream",
     "text": [
      "Epoch 9, Val Loss: 3.6274, Val Acc: 10.59%\n",
      "当前学习率: 0.010000\n",
      "保存最佳模型，验证准确率: 10.59%\n"
     ]
    },
    {
     "name": "stderr",
     "output_type": "stream",
     "text": [
      "Epoch 10, Loss: 3.5756, Acc: 10.51%: 100%|██████████| 313/313 [00:29<00:00, 10.58it/s]"
     ]
    },
    {
     "name": "stdout",
     "output_type": "stream",
     "text": [
      "Epoch 10/500, Train Loss: 3.5741, Train Acc: 10.54%\n"
     ]
    },
    {
     "name": "stderr",
     "output_type": "stream",
     "text": [
      "\n"
     ]
    },
    {
     "name": "stdout",
     "output_type": "stream",
     "text": [
      "Epoch 10, Val Loss: 4.0464, Val Acc: 4.85%\n",
      "当前学习率: 0.010000\n"
     ]
    },
    {
     "name": "stderr",
     "output_type": "stream",
     "text": [
      "Epoch 11, Loss: 3.5627, Acc: 10.59%: 100%|██████████| 313/313 [00:29<00:00, 10.58it/s]"
     ]
    },
    {
     "name": "stdout",
     "output_type": "stream",
     "text": [
      "Epoch 11/500, Train Loss: 3.5604, Train Acc: 10.62%\n"
     ]
    },
    {
     "name": "stderr",
     "output_type": "stream",
     "text": [
      "\n"
     ]
    },
    {
     "name": "stdout",
     "output_type": "stream",
     "text": [
      "Epoch 11, Val Loss: 3.4058, Val Acc: 9.52%\n",
      "当前学习率: 0.010000\n"
     ]
    },
    {
     "name": "stderr",
     "output_type": "stream",
     "text": [
      "Epoch 12, Loss: 3.5832, Acc: 9.75%: 100%|██████████| 313/313 [00:29<00:00, 10.58it/s] "
     ]
    },
    {
     "name": "stdout",
     "output_type": "stream",
     "text": [
      "Epoch 12/500, Train Loss: 3.5837, Train Acc: 9.74%\n"
     ]
    },
    {
     "name": "stderr",
     "output_type": "stream",
     "text": [
      "\n"
     ]
    },
    {
     "name": "stdout",
     "output_type": "stream",
     "text": [
      "Epoch 12, Val Loss: 3.3315, Val Acc: 13.82%\n",
      "当前学习率: 0.010000\n",
      "保存最佳模型，验证准确率: 13.82%\n"
     ]
    },
    {
     "name": "stderr",
     "output_type": "stream",
     "text": [
      "Epoch 13, Loss: 3.4781, Acc: 10.87%: 100%|██████████| 313/313 [00:29<00:00, 10.58it/s]"
     ]
    },
    {
     "name": "stdout",
     "output_type": "stream",
     "text": [
      "Epoch 13/500, Train Loss: 3.4790, Train Acc: 10.82%\n"
     ]
    },
    {
     "name": "stderr",
     "output_type": "stream",
     "text": [
      "\n"
     ]
    },
    {
     "name": "stdout",
     "output_type": "stream",
     "text": [
      "Epoch 13, Val Loss: 3.5743, Val Acc: 7.36%\n",
      "当前学习率: 0.010000\n"
     ]
    },
    {
     "name": "stderr",
     "output_type": "stream",
     "text": [
      "Epoch 14, Loss: 3.4826, Acc: 10.97%: 100%|██████████| 313/313 [00:29<00:00, 10.57it/s]"
     ]
    },
    {
     "name": "stdout",
     "output_type": "stream",
     "text": [
      "Epoch 14/500, Train Loss: 3.4819, Train Acc: 11.02%\n"
     ]
    },
    {
     "name": "stderr",
     "output_type": "stream",
     "text": [
      "\n"
     ]
    },
    {
     "name": "stdout",
     "output_type": "stream",
     "text": [
      "Epoch 14, Val Loss: 3.3422, Val Acc: 12.39%\n",
      "当前学习率: 0.010000\n"
     ]
    },
    {
     "name": "stderr",
     "output_type": "stream",
     "text": [
      "Epoch 15, Loss: 3.4127, Acc: 11.62%: 100%|██████████| 313/313 [00:29<00:00, 10.58it/s]"
     ]
    },
    {
     "name": "stdout",
     "output_type": "stream",
     "text": [
      "Epoch 15/500, Train Loss: 3.4114, Train Acc: 11.68%\n"
     ]
    },
    {
     "name": "stderr",
     "output_type": "stream",
     "text": [
      "\n"
     ]
    },
    {
     "name": "stdout",
     "output_type": "stream",
     "text": [
      "Epoch 15, Val Loss: 3.3296, Val Acc: 11.85%\n",
      "当前学习率: 0.010000\n"
     ]
    },
    {
     "name": "stderr",
     "output_type": "stream",
     "text": [
      "Epoch 16, Loss: 3.4321, Acc: 10.51%: 100%|██████████| 313/313 [00:29<00:00, 10.58it/s]"
     ]
    },
    {
     "name": "stdout",
     "output_type": "stream",
     "text": [
      "Epoch 16/500, Train Loss: 3.4311, Train Acc: 10.50%\n"
     ]
    },
    {
     "name": "stderr",
     "output_type": "stream",
     "text": [
      "\n"
     ]
    },
    {
     "name": "stdout",
     "output_type": "stream",
     "text": [
      "Epoch 16, Val Loss: 3.2898, Val Acc: 13.29%\n",
      "当前学习率: 0.010000\n"
     ]
    },
    {
     "name": "stderr",
     "output_type": "stream",
     "text": [
      "Epoch 17, Loss: 3.3706, Acc: 12.38%: 100%|██████████| 313/313 [00:29<00:00, 10.61it/s]"
     ]
    },
    {
     "name": "stdout",
     "output_type": "stream",
     "text": [
      "Epoch 17/500, Train Loss: 3.3716, Train Acc: 12.36%\n"
     ]
    },
    {
     "name": "stderr",
     "output_type": "stream",
     "text": [
      "\n"
     ]
    },
    {
     "name": "stdout",
     "output_type": "stream",
     "text": [
      "Epoch 17, Val Loss: 3.2959, Val Acc: 14.00%\n",
      "当前学习率: 0.010000\n",
      "保存最佳模型，验证准确率: 14.00%\n"
     ]
    },
    {
     "name": "stderr",
     "output_type": "stream",
     "text": [
      "Epoch 18, Loss: 3.3698, Acc: 12.72%: 100%|██████████| 313/313 [00:29<00:00, 10.60it/s]"
     ]
    },
    {
     "name": "stdout",
     "output_type": "stream",
     "text": [
      "Epoch 18/500, Train Loss: 3.3686, Train Acc: 12.76%\n"
     ]
    },
    {
     "name": "stderr",
     "output_type": "stream",
     "text": [
      "\n"
     ]
    },
    {
     "name": "stdout",
     "output_type": "stream",
     "text": [
      "Epoch 18, Val Loss: 3.2184, Val Acc: 14.54%\n",
      "当前学习率: 0.010000\n",
      "保存最佳模型，验证准确率: 14.54%\n"
     ]
    },
    {
     "name": "stderr",
     "output_type": "stream",
     "text": [
      "Epoch 19, Loss: 3.3453, Acc: 12.80%: 100%|██████████| 313/313 [00:29<00:00, 10.58it/s]"
     ]
    },
    {
     "name": "stdout",
     "output_type": "stream",
     "text": [
      "Epoch 19/500, Train Loss: 3.3443, Train Acc: 12.80%\n"
     ]
    },
    {
     "name": "stderr",
     "output_type": "stream",
     "text": [
      "\n"
     ]
    },
    {
     "name": "stdout",
     "output_type": "stream",
     "text": [
      "Epoch 19, Val Loss: 3.2155, Val Acc: 13.29%\n",
      "当前学习率: 0.010000\n"
     ]
    },
    {
     "name": "stderr",
     "output_type": "stream",
     "text": [
      "Epoch 20, Loss: 3.3695, Acc: 12.90%: 100%|██████████| 313/313 [00:29<00:00, 10.57it/s]"
     ]
    },
    {
     "name": "stdout",
     "output_type": "stream",
     "text": [
      "Epoch 20/500, Train Loss: 3.3683, Train Acc: 12.92%\n"
     ]
    },
    {
     "name": "stderr",
     "output_type": "stream",
     "text": [
      "\n"
     ]
    },
    {
     "name": "stdout",
     "output_type": "stream",
     "text": [
      "Epoch 20, Val Loss: 3.2025, Val Acc: 15.44%\n",
      "当前学习率: 0.010000\n",
      "保存最佳模型，验证准确率: 15.44%\n"
     ]
    },
    {
     "name": "stderr",
     "output_type": "stream",
     "text": [
      "Epoch 21, Loss: 3.4779, Acc: 10.65%: 100%|██████████| 313/313 [00:29<00:00, 10.56it/s]"
     ]
    },
    {
     "name": "stdout",
     "output_type": "stream",
     "text": [
      "Epoch 21/500, Train Loss: 3.4760, Train Acc: 10.66%\n"
     ]
    },
    {
     "name": "stderr",
     "output_type": "stream",
     "text": [
      "\n"
     ]
    },
    {
     "name": "stdout",
     "output_type": "stream",
     "text": [
      "Epoch 21, Val Loss: 3.3470, Val Acc: 9.87%\n",
      "当前学习率: 0.010000\n"
     ]
    },
    {
     "name": "stderr",
     "output_type": "stream",
     "text": [
      "Epoch 22, Loss: 3.3783, Acc: 12.54%: 100%|██████████| 313/313 [00:29<00:00, 10.56it/s]"
     ]
    },
    {
     "name": "stdout",
     "output_type": "stream",
     "text": [
      "Epoch 22/500, Train Loss: 3.3753, Train Acc: 12.54%\n"
     ]
    },
    {
     "name": "stderr",
     "output_type": "stream",
     "text": [
      "\n"
     ]
    },
    {
     "name": "stdout",
     "output_type": "stream",
     "text": [
      "Epoch 22, Val Loss: 3.2038, Val Acc: 14.36%\n",
      "当前学习率: 0.010000\n"
     ]
    },
    {
     "name": "stderr",
     "output_type": "stream",
     "text": [
      "Epoch 23, Loss: 3.3225, Acc: 12.86%: 100%|██████████| 313/313 [00:29<00:00, 10.60it/s]"
     ]
    },
    {
     "name": "stdout",
     "output_type": "stream",
     "text": [
      "Epoch 23/500, Train Loss: 3.3228, Train Acc: 12.84%\n"
     ]
    },
    {
     "name": "stderr",
     "output_type": "stream",
     "text": [
      "\n"
     ]
    },
    {
     "name": "stdout",
     "output_type": "stream",
     "text": [
      "Epoch 23, Val Loss: 3.2073, Val Acc: 15.62%\n",
      "当前学习率: 0.010000\n",
      "保存最佳模型，验证准确率: 15.62%\n"
     ]
    },
    {
     "name": "stderr",
     "output_type": "stream",
     "text": [
      "Epoch 24, Loss: 3.2211, Acc: 15.19%: 100%|██████████| 313/313 [00:29<00:00, 10.58it/s]"
     ]
    },
    {
     "name": "stdout",
     "output_type": "stream",
     "text": [
      "Epoch 24/500, Train Loss: 3.2214, Train Acc: 15.16%\n"
     ]
    },
    {
     "name": "stderr",
     "output_type": "stream",
     "text": [
      "\n"
     ]
    },
    {
     "name": "stdout",
     "output_type": "stream",
     "text": [
      "Epoch 24, Val Loss: 3.0701, Val Acc: 15.80%\n",
      "当前学习率: 0.010000\n",
      "保存最佳模型，验证准确率: 15.80%\n"
     ]
    },
    {
     "name": "stderr",
     "output_type": "stream",
     "text": [
      "Epoch 25, Loss: 3.1989, Acc: 16.24%: 100%|██████████| 313/313 [00:29<00:00, 10.58it/s]"
     ]
    },
    {
     "name": "stdout",
     "output_type": "stream",
     "text": [
      "Epoch 25/500, Train Loss: 3.2020, Train Acc: 16.20%\n"
     ]
    },
    {
     "name": "stderr",
     "output_type": "stream",
     "text": [
      "\n"
     ]
    },
    {
     "name": "stdout",
     "output_type": "stream",
     "text": [
      "Epoch 25, Val Loss: 2.9419, Val Acc: 20.47%\n",
      "当前学习率: 0.010000\n",
      "保存最佳模型，验证准确率: 20.47%\n"
     ]
    },
    {
     "name": "stderr",
     "output_type": "stream",
     "text": [
      "Epoch 26, Loss: 3.0983, Acc: 17.58%: 100%|██████████| 313/313 [00:29<00:00, 10.58it/s]"
     ]
    },
    {
     "name": "stdout",
     "output_type": "stream",
     "text": [
      "Epoch 26/500, Train Loss: 3.0973, Train Acc: 17.60%\n"
     ]
    },
    {
     "name": "stderr",
     "output_type": "stream",
     "text": [
      "\n"
     ]
    },
    {
     "name": "stdout",
     "output_type": "stream",
     "text": [
      "Epoch 26, Val Loss: 2.9998, Val Acc: 17.77%\n",
      "当前学习率: 0.010000\n"
     ]
    },
    {
     "name": "stderr",
     "output_type": "stream",
     "text": [
      "Epoch 27, Loss: 3.1347, Acc: 17.04%: 100%|██████████| 313/313 [00:29<00:00, 10.57it/s]"
     ]
    },
    {
     "name": "stdout",
     "output_type": "stream",
     "text": [
      "Epoch 27/500, Train Loss: 3.1347, Train Acc: 17.04%\n"
     ]
    },
    {
     "name": "stderr",
     "output_type": "stream",
     "text": [
      "\n"
     ]
    },
    {
     "name": "stdout",
     "output_type": "stream",
     "text": [
      "Epoch 27, Val Loss: 3.0775, Val Acc: 16.34%\n",
      "当前学习率: 0.010000\n"
     ]
    },
    {
     "name": "stderr",
     "output_type": "stream",
     "text": [
      "Epoch 28, Loss: 3.2193, Acc: 15.49%: 100%|██████████| 313/313 [00:29<00:00, 10.57it/s]"
     ]
    },
    {
     "name": "stdout",
     "output_type": "stream",
     "text": [
      "Epoch 28/500, Train Loss: 3.2190, Train Acc: 15.52%\n"
     ]
    },
    {
     "name": "stderr",
     "output_type": "stream",
     "text": [
      "\n"
     ]
    },
    {
     "name": "stdout",
     "output_type": "stream",
     "text": [
      "Epoch 28, Val Loss: 2.9107, Val Acc: 19.75%\n",
      "当前学习率: 0.010000\n"
     ]
    },
    {
     "name": "stderr",
     "output_type": "stream",
     "text": [
      "Epoch 29, Loss: 3.1839, Acc: 16.44%: 100%|██████████| 313/313 [00:29<00:00, 10.57it/s]"
     ]
    },
    {
     "name": "stdout",
     "output_type": "stream",
     "text": [
      "Epoch 29/500, Train Loss: 3.1862, Train Acc: 16.48%\n"
     ]
    },
    {
     "name": "stderr",
     "output_type": "stream",
     "text": [
      "\n"
     ]
    },
    {
     "name": "stdout",
     "output_type": "stream",
     "text": [
      "Epoch 29, Val Loss: 3.0096, Val Acc: 16.52%\n",
      "当前学习率: 0.010000\n"
     ]
    },
    {
     "name": "stderr",
     "output_type": "stream",
     "text": [
      "Epoch 30, Loss: 3.1374, Acc: 16.86%: 100%|██████████| 313/313 [00:30<00:00, 10.42it/s]"
     ]
    },
    {
     "name": "stdout",
     "output_type": "stream",
     "text": [
      "Epoch 30/500, Train Loss: 3.1390, Train Acc: 16.84%\n"
     ]
    },
    {
     "name": "stderr",
     "output_type": "stream",
     "text": [
      "\n"
     ]
    },
    {
     "name": "stdout",
     "output_type": "stream",
     "text": [
      "Epoch 30, Val Loss: 2.9409, Val Acc: 21.36%\n",
      "当前学习率: 0.010000\n",
      "保存最佳模型，验证准确率: 21.36%\n"
     ]
    },
    {
     "name": "stderr",
     "output_type": "stream",
     "text": [
      "Epoch 31, Loss: 3.1026, Acc: 17.20%: 100%|██████████| 313/313 [00:29<00:00, 10.58it/s]"
     ]
    },
    {
     "name": "stdout",
     "output_type": "stream",
     "text": [
      "Epoch 31/500, Train Loss: 3.1024, Train Acc: 17.14%\n"
     ]
    },
    {
     "name": "stderr",
     "output_type": "stream",
     "text": [
      "\n"
     ]
    },
    {
     "name": "stdout",
     "output_type": "stream",
     "text": [
      "Epoch 31, Val Loss: 2.9739, Val Acc: 19.21%\n",
      "当前学习率: 0.010000\n"
     ]
    },
    {
     "name": "stderr",
     "output_type": "stream",
     "text": [
      "Epoch 32, Loss: 3.0991, Acc: 16.98%: 100%|██████████| 313/313 [00:29<00:00, 10.58it/s]"
     ]
    },
    {
     "name": "stdout",
     "output_type": "stream",
     "text": [
      "Epoch 32/500, Train Loss: 3.1004, Train Acc: 16.94%\n"
     ]
    },
    {
     "name": "stderr",
     "output_type": "stream",
     "text": [
      "\n"
     ]
    },
    {
     "name": "stdout",
     "output_type": "stream",
     "text": [
      "Epoch 32, Val Loss: 3.1562, Val Acc: 15.26%\n",
      "当前学习率: 0.005000\n"
     ]
    },
    {
     "name": "stderr",
     "output_type": "stream",
     "text": [
      "Epoch 33, Loss: 3.0488, Acc: 19.23%: 100%|██████████| 313/313 [00:29<00:00, 10.57it/s]"
     ]
    },
    {
     "name": "stdout",
     "output_type": "stream",
     "text": [
      "Epoch 33/500, Train Loss: 3.0481, Train Acc: 19.24%\n"
     ]
    },
    {
     "name": "stderr",
     "output_type": "stream",
     "text": [
      "\n"
     ]
    },
    {
     "name": "stdout",
     "output_type": "stream",
     "text": [
      "Epoch 33, Val Loss: 2.8229, Val Acc: 21.72%\n",
      "当前学习率: 0.005000\n",
      "保存最佳模型，验证准确率: 21.72%\n"
     ]
    },
    {
     "name": "stderr",
     "output_type": "stream",
     "text": [
      "Epoch 34, Loss: 2.9691, Acc: 19.19%: 100%|██████████| 313/313 [00:29<00:00, 10.55it/s]"
     ]
    },
    {
     "name": "stdout",
     "output_type": "stream",
     "text": [
      "Epoch 34/500, Train Loss: 2.9681, Train Acc: 19.16%\n"
     ]
    },
    {
     "name": "stderr",
     "output_type": "stream",
     "text": [
      "\n"
     ]
    },
    {
     "name": "stdout",
     "output_type": "stream",
     "text": [
      "Epoch 34, Val Loss: 2.7329, Val Acc: 23.34%\n",
      "当前学习率: 0.005000\n",
      "保存最佳模型，验证准确率: 23.34%\n"
     ]
    },
    {
     "name": "stderr",
     "output_type": "stream",
     "text": [
      "Epoch 35, Loss: 2.9097, Acc: 21.46%: 100%|██████████| 313/313 [00:29<00:00, 10.58it/s]"
     ]
    },
    {
     "name": "stdout",
     "output_type": "stream",
     "text": [
      "Epoch 35/500, Train Loss: 2.9160, Train Acc: 21.38%\n"
     ]
    },
    {
     "name": "stderr",
     "output_type": "stream",
     "text": [
      "\n"
     ]
    },
    {
     "name": "stdout",
     "output_type": "stream",
     "text": [
      "Epoch 35, Val Loss: 2.6943, Val Acc: 25.67%\n",
      "当前学习率: 0.005000\n",
      "保存最佳模型，验证准确率: 25.67%\n"
     ]
    },
    {
     "name": "stderr",
     "output_type": "stream",
     "text": [
      "Epoch 36, Loss: 2.9532, Acc: 19.92%: 100%|██████████| 313/313 [00:29<00:00, 10.57it/s]"
     ]
    },
    {
     "name": "stdout",
     "output_type": "stream",
     "text": [
      "Epoch 36/500, Train Loss: 2.9539, Train Acc: 19.90%\n"
     ]
    },
    {
     "name": "stderr",
     "output_type": "stream",
     "text": [
      "\n"
     ]
    },
    {
     "name": "stdout",
     "output_type": "stream",
     "text": [
      "Epoch 36, Val Loss: 2.7509, Val Acc: 23.52%\n",
      "当前学习率: 0.005000\n"
     ]
    },
    {
     "name": "stderr",
     "output_type": "stream",
     "text": [
      "Epoch 37, Loss: 2.9690, Acc: 18.71%: 100%|██████████| 313/313 [00:29<00:00, 10.58it/s]"
     ]
    },
    {
     "name": "stdout",
     "output_type": "stream",
     "text": [
      "Epoch 37/500, Train Loss: 2.9714, Train Acc: 18.70%\n"
     ]
    },
    {
     "name": "stderr",
     "output_type": "stream",
     "text": [
      "\n"
     ]
    },
    {
     "name": "stdout",
     "output_type": "stream",
     "text": [
      "Epoch 37, Val Loss: 2.7705, Val Acc: 20.47%\n",
      "当前学习率: 0.005000\n"
     ]
    },
    {
     "name": "stderr",
     "output_type": "stream",
     "text": [
      "Epoch 38, Loss: 2.9032, Acc: 20.12%: 100%|██████████| 313/313 [00:29<00:00, 10.55it/s]"
     ]
    },
    {
     "name": "stdout",
     "output_type": "stream",
     "text": [
      "Epoch 38/500, Train Loss: 2.9028, Train Acc: 20.06%\n"
     ]
    },
    {
     "name": "stderr",
     "output_type": "stream",
     "text": [
      "\n"
     ]
    },
    {
     "name": "stdout",
     "output_type": "stream",
     "text": [
      "Epoch 38, Val Loss: 2.7445, Val Acc: 25.31%\n",
      "当前学习率: 0.005000\n"
     ]
    },
    {
     "name": "stderr",
     "output_type": "stream",
     "text": [
      "Epoch 39, Loss: 2.8708, Acc: 21.97%: 100%|██████████| 313/313 [00:29<00:00, 10.57it/s]"
     ]
    },
    {
     "name": "stdout",
     "output_type": "stream",
     "text": [
      "Epoch 39/500, Train Loss: 2.8681, Train Acc: 22.04%\n"
     ]
    },
    {
     "name": "stderr",
     "output_type": "stream",
     "text": [
      "\n"
     ]
    },
    {
     "name": "stdout",
     "output_type": "stream",
     "text": [
      "Epoch 39, Val Loss: 2.6476, Val Acc: 26.75%\n",
      "当前学习率: 0.005000\n",
      "保存最佳模型，验证准确率: 26.75%\n"
     ]
    },
    {
     "name": "stderr",
     "output_type": "stream",
     "text": [
      "Epoch 40, Loss: 2.8545, Acc: 21.40%: 100%|██████████| 313/313 [00:29<00:00, 10.58it/s]"
     ]
    },
    {
     "name": "stdout",
     "output_type": "stream",
     "text": [
      "Epoch 40/500, Train Loss: 2.8546, Train Acc: 21.42%\n"
     ]
    },
    {
     "name": "stderr",
     "output_type": "stream",
     "text": [
      "\n"
     ]
    },
    {
     "name": "stdout",
     "output_type": "stream",
     "text": [
      "Epoch 40, Val Loss: 2.6193, Val Acc: 24.78%\n",
      "当前学习率: 0.005000\n"
     ]
    },
    {
     "name": "stderr",
     "output_type": "stream",
     "text": [
      "Epoch 41, Loss: 2.9121, Acc: 20.90%: 100%|██████████| 313/313 [00:29<00:00, 10.58it/s]"
     ]
    },
    {
     "name": "stdout",
     "output_type": "stream",
     "text": [
      "Epoch 41/500, Train Loss: 2.9128, Train Acc: 20.98%\n"
     ]
    },
    {
     "name": "stderr",
     "output_type": "stream",
     "text": [
      "\n"
     ]
    },
    {
     "name": "stdout",
     "output_type": "stream",
     "text": [
      "Epoch 41, Val Loss: 2.7122, Val Acc: 22.80%\n",
      "当前学习率: 0.005000\n"
     ]
    },
    {
     "name": "stderr",
     "output_type": "stream",
     "text": [
      "Epoch 42, Loss: 2.8939, Acc: 21.58%: 100%|██████████| 313/313 [00:29<00:00, 10.57it/s]"
     ]
    },
    {
     "name": "stdout",
     "output_type": "stream",
     "text": [
      "Epoch 42/500, Train Loss: 2.8933, Train Acc: 21.58%\n"
     ]
    },
    {
     "name": "stderr",
     "output_type": "stream",
     "text": [
      "\n"
     ]
    },
    {
     "name": "stdout",
     "output_type": "stream",
     "text": [
      "Epoch 42, Val Loss: 2.7545, Val Acc: 23.88%\n",
      "当前学习率: 0.005000\n"
     ]
    },
    {
     "name": "stderr",
     "output_type": "stream",
     "text": [
      "Epoch 43, Loss: 2.8486, Acc: 21.97%: 100%|██████████| 313/313 [00:29<00:00, 10.57it/s]"
     ]
    },
    {
     "name": "stdout",
     "output_type": "stream",
     "text": [
      "Epoch 43/500, Train Loss: 2.8522, Train Acc: 21.98%\n"
     ]
    },
    {
     "name": "stderr",
     "output_type": "stream",
     "text": [
      "\n"
     ]
    },
    {
     "name": "stdout",
     "output_type": "stream",
     "text": [
      "Epoch 43, Val Loss: 2.6534, Val Acc: 23.52%\n",
      "当前学习率: 0.005000\n"
     ]
    },
    {
     "name": "stderr",
     "output_type": "stream",
     "text": [
      "Epoch 44, Loss: 2.7831, Acc: 22.73%: 100%|██████████| 313/313 [00:29<00:00, 10.57it/s]"
     ]
    },
    {
     "name": "stdout",
     "output_type": "stream",
     "text": [
      "Epoch 44/500, Train Loss: 2.7804, Train Acc: 22.80%\n"
     ]
    },
    {
     "name": "stderr",
     "output_type": "stream",
     "text": [
      "\n"
     ]
    },
    {
     "name": "stdout",
     "output_type": "stream",
     "text": [
      "Epoch 44, Val Loss: 2.6147, Val Acc: 26.93%\n",
      "当前学习率: 0.005000\n",
      "保存最佳模型，验证准确率: 26.93%\n"
     ]
    },
    {
     "name": "stderr",
     "output_type": "stream",
     "text": [
      "Epoch 45, Loss: 2.7762, Acc: 24.04%: 100%|██████████| 313/313 [00:29<00:00, 10.58it/s]"
     ]
    },
    {
     "name": "stdout",
     "output_type": "stream",
     "text": [
      "Epoch 45/500, Train Loss: 2.7763, Train Acc: 24.06%\n"
     ]
    },
    {
     "name": "stderr",
     "output_type": "stream",
     "text": [
      "\n"
     ]
    },
    {
     "name": "stdout",
     "output_type": "stream",
     "text": [
      "Epoch 45, Val Loss: 2.6202, Val Acc: 24.42%\n",
      "当前学习率: 0.005000\n"
     ]
    },
    {
     "name": "stderr",
     "output_type": "stream",
     "text": [
      "Epoch 46, Loss: 2.7906, Acc: 23.09%: 100%|██████████| 313/313 [00:29<00:00, 10.59it/s]"
     ]
    },
    {
     "name": "stdout",
     "output_type": "stream",
     "text": [
      "Epoch 46/500, Train Loss: 2.7903, Train Acc: 23.10%\n"
     ]
    },
    {
     "name": "stderr",
     "output_type": "stream",
     "text": [
      "\n"
     ]
    },
    {
     "name": "stdout",
     "output_type": "stream",
     "text": [
      "Epoch 46, Val Loss: 2.6276, Val Acc: 27.47%\n",
      "当前学习率: 0.005000\n",
      "保存最佳模型，验证准确率: 27.47%\n"
     ]
    },
    {
     "name": "stderr",
     "output_type": "stream",
     "text": [
      "Epoch 47, Loss: 2.7077, Acc: 24.56%: 100%|██████████| 313/313 [00:29<00:00, 10.57it/s]"
     ]
    },
    {
     "name": "stdout",
     "output_type": "stream",
     "text": [
      "Epoch 47/500, Train Loss: 2.7081, Train Acc: 24.62%\n"
     ]
    },
    {
     "name": "stderr",
     "output_type": "stream",
     "text": [
      "\n"
     ]
    },
    {
     "name": "stdout",
     "output_type": "stream",
     "text": [
      "Epoch 47, Val Loss: 2.5426, Val Acc: 29.08%\n",
      "当前学习率: 0.005000\n",
      "保存最佳模型，验证准确率: 29.08%\n"
     ]
    },
    {
     "name": "stderr",
     "output_type": "stream",
     "text": [
      "Epoch 48, Loss: 2.7619, Acc: 24.08%: 100%|██████████| 313/313 [00:29<00:00, 10.58it/s]"
     ]
    },
    {
     "name": "stdout",
     "output_type": "stream",
     "text": [
      "Epoch 48/500, Train Loss: 2.7615, Train Acc: 24.14%\n"
     ]
    },
    {
     "name": "stderr",
     "output_type": "stream",
     "text": [
      "\n"
     ]
    },
    {
     "name": "stdout",
     "output_type": "stream",
     "text": [
      "Epoch 48, Val Loss: 2.5791, Val Acc: 28.73%\n",
      "当前学习率: 0.005000\n"
     ]
    },
    {
     "name": "stderr",
     "output_type": "stream",
     "text": [
      "Epoch 49, Loss: 2.7505, Acc: 24.36%: 100%|██████████| 313/313 [00:29<00:00, 10.59it/s]"
     ]
    },
    {
     "name": "stdout",
     "output_type": "stream",
     "text": [
      "Epoch 49/500, Train Loss: 2.7519, Train Acc: 24.34%\n"
     ]
    },
    {
     "name": "stderr",
     "output_type": "stream",
     "text": [
      "\n"
     ]
    },
    {
     "name": "stdout",
     "output_type": "stream",
     "text": [
      "Epoch 49, Val Loss: 2.6097, Val Acc: 24.78%\n",
      "当前学习率: 0.005000\n"
     ]
    },
    {
     "name": "stderr",
     "output_type": "stream",
     "text": [
      "Epoch 50, Loss: 2.8014, Acc: 23.23%: 100%|██████████| 313/313 [00:29<00:00, 10.58it/s]"
     ]
    },
    {
     "name": "stdout",
     "output_type": "stream",
     "text": [
      "Epoch 50/500, Train Loss: 2.8071, Train Acc: 23.20%\n"
     ]
    },
    {
     "name": "stderr",
     "output_type": "stream",
     "text": [
      "\n"
     ]
    },
    {
     "name": "stdout",
     "output_type": "stream",
     "text": [
      "Epoch 50, Val Loss: 2.6112, Val Acc: 27.11%\n",
      "当前学习率: 0.005000\n"
     ]
    },
    {
     "name": "stderr",
     "output_type": "stream",
     "text": [
      "Epoch 51, Loss: 2.7297, Acc: 24.30%: 100%|██████████| 313/313 [00:29<00:00, 10.57it/s]"
     ]
    },
    {
     "name": "stdout",
     "output_type": "stream",
     "text": [
      "Epoch 51/500, Train Loss: 2.7286, Train Acc: 24.28%\n"
     ]
    },
    {
     "name": "stderr",
     "output_type": "stream",
     "text": [
      "\n"
     ]
    },
    {
     "name": "stdout",
     "output_type": "stream",
     "text": [
      "Epoch 51, Val Loss: 2.5773, Val Acc: 26.75%\n",
      "当前学习率: 0.002500\n"
     ]
    },
    {
     "name": "stderr",
     "output_type": "stream",
     "text": [
      "Epoch 52, Loss: 2.7050, Acc: 24.54%: 100%|██████████| 313/313 [00:29<00:00, 10.56it/s]"
     ]
    },
    {
     "name": "stdout",
     "output_type": "stream",
     "text": [
      "Epoch 52/500, Train Loss: 2.7064, Train Acc: 24.52%\n"
     ]
    },
    {
     "name": "stderr",
     "output_type": "stream",
     "text": [
      "\n"
     ]
    },
    {
     "name": "stdout",
     "output_type": "stream",
     "text": [
      "Epoch 52, Val Loss: 2.4935, Val Acc: 29.80%\n",
      "当前学习率: 0.002500\n",
      "保存最佳模型，验证准确率: 29.80%\n"
     ]
    },
    {
     "name": "stderr",
     "output_type": "stream",
     "text": [
      "Epoch 53, Loss: 2.6813, Acc: 25.10%: 100%|██████████| 313/313 [00:29<00:00, 10.55it/s]"
     ]
    },
    {
     "name": "stdout",
     "output_type": "stream",
     "text": [
      "Epoch 53/500, Train Loss: 2.6827, Train Acc: 25.10%\n"
     ]
    },
    {
     "name": "stderr",
     "output_type": "stream",
     "text": [
      "\n"
     ]
    },
    {
     "name": "stdout",
     "output_type": "stream",
     "text": [
      "Epoch 53, Val Loss: 2.5013, Val Acc: 28.73%\n",
      "当前学习率: 0.002500\n"
     ]
    },
    {
     "name": "stderr",
     "output_type": "stream",
     "text": [
      "Epoch 54, Loss: 2.6217, Acc: 26.63%: 100%|██████████| 313/313 [00:29<00:00, 10.57it/s]"
     ]
    },
    {
     "name": "stdout",
     "output_type": "stream",
     "text": [
      "Epoch 54/500, Train Loss: 2.6225, Train Acc: 26.58%\n"
     ]
    },
    {
     "name": "stderr",
     "output_type": "stream",
     "text": [
      "\n"
     ]
    },
    {
     "name": "stdout",
     "output_type": "stream",
     "text": [
      "Epoch 54, Val Loss: 2.4719, Val Acc: 28.01%\n",
      "当前学习率: 0.002500\n"
     ]
    },
    {
     "name": "stderr",
     "output_type": "stream",
     "text": [
      "Epoch 55, Loss: 2.6051, Acc: 26.89%: 100%|██████████| 313/313 [00:29<00:00, 10.59it/s]"
     ]
    },
    {
     "name": "stdout",
     "output_type": "stream",
     "text": [
      "Epoch 55/500, Train Loss: 2.6029, Train Acc: 26.92%\n"
     ]
    },
    {
     "name": "stderr",
     "output_type": "stream",
     "text": [
      "\n"
     ]
    },
    {
     "name": "stdout",
     "output_type": "stream",
     "text": [
      "Epoch 55, Val Loss: 2.4002, Val Acc: 30.70%\n",
      "当前学习率: 0.002500\n",
      "保存最佳模型，验证准确率: 30.70%\n"
     ]
    },
    {
     "name": "stderr",
     "output_type": "stream",
     "text": [
      "Epoch 56, Loss: 2.6342, Acc: 27.17%: 100%|██████████| 313/313 [00:29<00:00, 10.57it/s]"
     ]
    },
    {
     "name": "stdout",
     "output_type": "stream",
     "text": [
      "Epoch 56/500, Train Loss: 2.6362, Train Acc: 27.16%\n"
     ]
    },
    {
     "name": "stderr",
     "output_type": "stream",
     "text": [
      "\n"
     ]
    },
    {
     "name": "stdout",
     "output_type": "stream",
     "text": [
      "Epoch 56, Val Loss: 2.4575, Val Acc: 28.73%\n",
      "当前学习率: 0.002500\n"
     ]
    },
    {
     "name": "stderr",
     "output_type": "stream",
     "text": [
      "Epoch 57, Loss: 2.6323, Acc: 26.25%: 100%|██████████| 313/313 [00:29<00:00, 10.58it/s]"
     ]
    },
    {
     "name": "stdout",
     "output_type": "stream",
     "text": [
      "Epoch 57/500, Train Loss: 2.6292, Train Acc: 26.30%\n"
     ]
    },
    {
     "name": "stderr",
     "output_type": "stream",
     "text": [
      "\n"
     ]
    },
    {
     "name": "stdout",
     "output_type": "stream",
     "text": [
      "Epoch 57, Val Loss: 2.4179, Val Acc: 30.70%\n",
      "当前学习率: 0.002500\n"
     ]
    },
    {
     "name": "stderr",
     "output_type": "stream",
     "text": [
      "Epoch 58, Loss: 2.6060, Acc: 26.97%: 100%|██████████| 313/313 [00:29<00:00, 10.55it/s]"
     ]
    },
    {
     "name": "stdout",
     "output_type": "stream",
     "text": [
      "Epoch 58/500, Train Loss: 2.6075, Train Acc: 26.96%\n"
     ]
    },
    {
     "name": "stderr",
     "output_type": "stream",
     "text": [
      "\n"
     ]
    },
    {
     "name": "stdout",
     "output_type": "stream",
     "text": [
      "Epoch 58, Val Loss: 2.3946, Val Acc: 30.88%\n",
      "当前学习率: 0.002500\n",
      "保存最佳模型，验证准确率: 30.88%\n"
     ]
    },
    {
     "name": "stderr",
     "output_type": "stream",
     "text": [
      "Epoch 59, Loss: 2.5827, Acc: 27.31%: 100%|██████████| 313/313 [00:29<00:00, 10.59it/s]"
     ]
    },
    {
     "name": "stdout",
     "output_type": "stream",
     "text": [
      "Epoch 59/500, Train Loss: 2.5851, Train Acc: 27.32%\n"
     ]
    },
    {
     "name": "stderr",
     "output_type": "stream",
     "text": [
      "\n"
     ]
    },
    {
     "name": "stdout",
     "output_type": "stream",
     "text": [
      "Epoch 59, Val Loss: 2.3736, Val Acc: 32.68%\n",
      "当前学习率: 0.002500\n",
      "保存最佳模型，验证准确率: 32.68%\n"
     ]
    },
    {
     "name": "stderr",
     "output_type": "stream",
     "text": [
      "Epoch 60, Loss: 2.5795, Acc: 28.09%: 100%|██████████| 313/313 [00:30<00:00, 10.25it/s]"
     ]
    },
    {
     "name": "stdout",
     "output_type": "stream",
     "text": [
      "Epoch 60/500, Train Loss: 2.5803, Train Acc: 28.10%\n"
     ]
    },
    {
     "name": "stderr",
     "output_type": "stream",
     "text": [
      "\n"
     ]
    },
    {
     "name": "stdout",
     "output_type": "stream",
     "text": [
      "Epoch 60, Val Loss: 2.3833, Val Acc: 28.73%\n",
      "当前学习率: 0.002500\n"
     ]
    },
    {
     "name": "stderr",
     "output_type": "stream",
     "text": [
      "Epoch 61, Loss: 2.5447, Acc: 28.18%: 100%|██████████| 313/313 [00:35<00:00,  8.80it/s]"
     ]
    },
    {
     "name": "stdout",
     "output_type": "stream",
     "text": [
      "Epoch 61/500, Train Loss: 2.5419, Train Acc: 28.28%\n"
     ]
    },
    {
     "name": "stderr",
     "output_type": "stream",
     "text": [
      "\n"
     ]
    },
    {
     "name": "stdout",
     "output_type": "stream",
     "text": [
      "Epoch 61, Val Loss: 2.3799, Val Acc: 30.52%\n",
      "当前学习率: 0.002500\n"
     ]
    },
    {
     "name": "stderr",
     "output_type": "stream",
     "text": [
      "Epoch 62, Loss: 2.5236, Acc: 28.26%: 100%|██████████| 313/313 [00:35<00:00,  8.82it/s]"
     ]
    },
    {
     "name": "stdout",
     "output_type": "stream",
     "text": [
      "Epoch 62/500, Train Loss: 2.5243, Train Acc: 28.26%\n"
     ]
    },
    {
     "name": "stderr",
     "output_type": "stream",
     "text": [
      "\n"
     ]
    },
    {
     "name": "stdout",
     "output_type": "stream",
     "text": [
      "Epoch 62, Val Loss: 2.3961, Val Acc: 31.42%\n",
      "当前学习率: 0.002500\n"
     ]
    },
    {
     "name": "stderr",
     "output_type": "stream",
     "text": [
      "Epoch 63, Loss: 2.5070, Acc: 28.58%: 100%|██████████| 313/313 [00:29<00:00, 10.58it/s]"
     ]
    },
    {
     "name": "stdout",
     "output_type": "stream",
     "text": [
      "Epoch 63/500, Train Loss: 2.5065, Train Acc: 28.56%\n"
     ]
    },
    {
     "name": "stderr",
     "output_type": "stream",
     "text": [
      "\n"
     ]
    },
    {
     "name": "stdout",
     "output_type": "stream",
     "text": [
      "Epoch 63, Val Loss: 2.3865, Val Acc: 30.70%\n",
      "当前学习率: 0.001250\n"
     ]
    },
    {
     "name": "stderr",
     "output_type": "stream",
     "text": [
      "Epoch 64, Loss: 2.4953, Acc: 29.64%: 100%|██████████| 313/313 [00:29<00:00, 10.58it/s]"
     ]
    },
    {
     "name": "stdout",
     "output_type": "stream",
     "text": [
      "Epoch 64/500, Train Loss: 2.4946, Train Acc: 29.64%\n"
     ]
    },
    {
     "name": "stderr",
     "output_type": "stream",
     "text": [
      "\n"
     ]
    },
    {
     "name": "stdout",
     "output_type": "stream",
     "text": [
      "Epoch 64, Val Loss: 2.3556, Val Acc: 32.68%\n",
      "当前学习率: 0.001250\n"
     ]
    },
    {
     "name": "stderr",
     "output_type": "stream",
     "text": [
      "Epoch 65, Loss: 2.4545, Acc: 30.93%: 100%|██████████| 313/313 [00:29<00:00, 10.56it/s]"
     ]
    },
    {
     "name": "stdout",
     "output_type": "stream",
     "text": [
      "Epoch 65/500, Train Loss: 2.4554, Train Acc: 30.92%\n"
     ]
    },
    {
     "name": "stderr",
     "output_type": "stream",
     "text": [
      "\n"
     ]
    },
    {
     "name": "stdout",
     "output_type": "stream",
     "text": [
      "Epoch 65, Val Loss: 2.3563, Val Acc: 34.47%\n",
      "当前学习率: 0.001250\n",
      "保存最佳模型，验证准确率: 34.47%\n"
     ]
    },
    {
     "name": "stderr",
     "output_type": "stream",
     "text": [
      "Epoch 66, Loss: 2.4767, Acc: 29.46%: 100%|██████████| 313/313 [00:29<00:00, 10.59it/s]"
     ]
    },
    {
     "name": "stdout",
     "output_type": "stream",
     "text": [
      "Epoch 66/500, Train Loss: 2.4799, Train Acc: 29.42%\n"
     ]
    },
    {
     "name": "stderr",
     "output_type": "stream",
     "text": [
      "\n"
     ]
    },
    {
     "name": "stdout",
     "output_type": "stream",
     "text": [
      "Epoch 66, Val Loss: 2.3052, Val Acc: 35.37%\n",
      "当前学习率: 0.001250\n",
      "保存最佳模型，验证准确率: 35.37%\n"
     ]
    },
    {
     "name": "stderr",
     "output_type": "stream",
     "text": [
      "Epoch 67, Loss: 2.4716, Acc: 29.20%: 100%|██████████| 313/313 [00:29<00:00, 10.58it/s]"
     ]
    },
    {
     "name": "stdout",
     "output_type": "stream",
     "text": [
      "Epoch 67/500, Train Loss: 2.4738, Train Acc: 29.16%\n"
     ]
    },
    {
     "name": "stderr",
     "output_type": "stream",
     "text": [
      "\n"
     ]
    },
    {
     "name": "stdout",
     "output_type": "stream",
     "text": [
      "Epoch 67, Val Loss: 2.3524, Val Acc: 32.50%\n",
      "当前学习率: 0.001250\n"
     ]
    },
    {
     "name": "stderr",
     "output_type": "stream",
     "text": [
      "Epoch 68, Loss: 2.4777, Acc: 30.02%: 100%|██████████| 313/313 [00:29<00:00, 10.58it/s]"
     ]
    },
    {
     "name": "stdout",
     "output_type": "stream",
     "text": [
      "Epoch 68/500, Train Loss: 2.4789, Train Acc: 29.98%\n"
     ]
    },
    {
     "name": "stderr",
     "output_type": "stream",
     "text": [
      "\n"
     ]
    },
    {
     "name": "stdout",
     "output_type": "stream",
     "text": [
      "Epoch 68, Val Loss: 2.3673, Val Acc: 33.75%\n",
      "当前学习率: 0.001250\n"
     ]
    },
    {
     "name": "stderr",
     "output_type": "stream",
     "text": [
      "Epoch 69, Loss: 2.4653, Acc: 29.92%: 100%|██████████| 313/313 [00:29<00:00, 10.58it/s]"
     ]
    },
    {
     "name": "stdout",
     "output_type": "stream",
     "text": [
      "Epoch 69/500, Train Loss: 2.4613, Train Acc: 29.94%\n"
     ]
    },
    {
     "name": "stderr",
     "output_type": "stream",
     "text": [
      "\n"
     ]
    },
    {
     "name": "stdout",
     "output_type": "stream",
     "text": [
      "Epoch 69, Val Loss: 2.3262, Val Acc: 33.03%\n",
      "当前学习率: 0.001250\n"
     ]
    },
    {
     "name": "stderr",
     "output_type": "stream",
     "text": [
      "Epoch 70, Loss: 2.4663, Acc: 30.12%: 100%|██████████| 313/313 [00:29<00:00, 10.59it/s]"
     ]
    },
    {
     "name": "stdout",
     "output_type": "stream",
     "text": [
      "Epoch 70/500, Train Loss: 2.4641, Train Acc: 30.12%\n"
     ]
    },
    {
     "name": "stderr",
     "output_type": "stream",
     "text": [
      "\n"
     ]
    },
    {
     "name": "stdout",
     "output_type": "stream",
     "text": [
      "Epoch 70, Val Loss: 2.3154, Val Acc: 32.14%\n",
      "当前学习率: 0.000625\n"
     ]
    },
    {
     "name": "stderr",
     "output_type": "stream",
     "text": [
      "Epoch 71, Loss: 2.4129, Acc: 31.27%: 100%|██████████| 313/313 [00:29<00:00, 10.58it/s]"
     ]
    },
    {
     "name": "stdout",
     "output_type": "stream",
     "text": [
      "Epoch 71/500, Train Loss: 2.4128, Train Acc: 31.24%\n"
     ]
    },
    {
     "name": "stderr",
     "output_type": "stream",
     "text": [
      "\n"
     ]
    },
    {
     "name": "stdout",
     "output_type": "stream",
     "text": [
      "Epoch 71, Val Loss: 2.3041, Val Acc: 33.57%\n",
      "当前学习率: 0.000625\n"
     ]
    },
    {
     "name": "stderr",
     "output_type": "stream",
     "text": [
      "Epoch 72, Loss: 2.4333, Acc: 31.05%: 100%|██████████| 313/313 [00:29<00:00, 10.59it/s]"
     ]
    },
    {
     "name": "stdout",
     "output_type": "stream",
     "text": [
      "Epoch 72/500, Train Loss: 2.4381, Train Acc: 30.98%\n"
     ]
    },
    {
     "name": "stderr",
     "output_type": "stream",
     "text": [
      "\n"
     ]
    },
    {
     "name": "stdout",
     "output_type": "stream",
     "text": [
      "Epoch 72, Val Loss: 2.3196, Val Acc: 31.96%\n",
      "当前学习率: 0.000625\n"
     ]
    },
    {
     "name": "stderr",
     "output_type": "stream",
     "text": [
      "Epoch 73, Loss: 2.3913, Acc: 31.57%: 100%|██████████| 313/313 [00:29<00:00, 10.57it/s]"
     ]
    },
    {
     "name": "stdout",
     "output_type": "stream",
     "text": [
      "Epoch 73/500, Train Loss: 2.3996, Train Acc: 31.48%\n"
     ]
    },
    {
     "name": "stderr",
     "output_type": "stream",
     "text": [
      "\n"
     ]
    },
    {
     "name": "stdout",
     "output_type": "stream",
     "text": [
      "Epoch 73, Val Loss: 2.3012, Val Acc: 33.21%\n",
      "当前学习率: 0.000625\n"
     ]
    },
    {
     "name": "stderr",
     "output_type": "stream",
     "text": [
      "Epoch 74, Loss: 2.4327, Acc: 30.91%: 100%|██████████| 313/313 [00:29<00:00, 10.58it/s]"
     ]
    },
    {
     "name": "stdout",
     "output_type": "stream",
     "text": [
      "Epoch 74/500, Train Loss: 2.4313, Train Acc: 30.94%\n"
     ]
    },
    {
     "name": "stderr",
     "output_type": "stream",
     "text": [
      "\n"
     ]
    },
    {
     "name": "stdout",
     "output_type": "stream",
     "text": [
      "Epoch 74, Val Loss: 2.3223, Val Acc: 33.03%\n",
      "当前学习率: 0.000625\n"
     ]
    },
    {
     "name": "stderr",
     "output_type": "stream",
     "text": [
      "Epoch 75, Loss: 2.3952, Acc: 31.51%: 100%|██████████| 313/313 [00:29<00:00, 10.58it/s]"
     ]
    },
    {
     "name": "stdout",
     "output_type": "stream",
     "text": [
      "Epoch 75/500, Train Loss: 2.3975, Train Acc: 31.46%\n"
     ]
    },
    {
     "name": "stderr",
     "output_type": "stream",
     "text": [
      "\n"
     ]
    },
    {
     "name": "stdout",
     "output_type": "stream",
     "text": [
      "Epoch 75, Val Loss: 2.2859, Val Acc: 34.29%\n",
      "当前学习率: 0.000625\n"
     ]
    },
    {
     "name": "stderr",
     "output_type": "stream",
     "text": [
      "Epoch 76, Loss: 2.4062, Acc: 31.95%: 100%|██████████| 313/313 [00:29<00:00, 10.57it/s]"
     ]
    },
    {
     "name": "stdout",
     "output_type": "stream",
     "text": [
      "Epoch 76/500, Train Loss: 2.4088, Train Acc: 31.88%\n"
     ]
    },
    {
     "name": "stderr",
     "output_type": "stream",
     "text": [
      "\n"
     ]
    },
    {
     "name": "stdout",
     "output_type": "stream",
     "text": [
      "Epoch 76, Val Loss: 2.3037, Val Acc: 34.11%\n",
      "当前学习率: 0.000625\n",
      "早停于第 76 轮\n",
      "创建评估器...\n",
      "评估模型...\n",
      "测试集准确率: 37.58%\n"
     ]
    }
   ],
   "source": [
    "import torch\n",
    "import torch.nn as nn\n",
    "import torch.optim as optim\n",
    "from torch.utils.data import DataLoader\n",
    "from tqdm import tqdm\n",
    "import numpy as np\n",
    "import os\n",
    "import gc  # 垃圾回收\n",
    "import math\n",
    "\n",
    "# 导入配置\n",
    "from config import Config\n",
    "\n",
    "\n",
    "# 训练器类\n",
    "class Trainer:\n",
    "    def __init__(self, config=Config, model=None):\n",
    "        \"\"\"初始化训练器\"\"\"\n",
    "        self.config = config\n",
    "        self.device = torch.device(\"cuda\" if torch.cuda.is_available() else \"cpu\")\n",
    "        print(f\"使用设备: {self.device}\")\n",
    "\n",
    "        # 创建模型\n",
    "        if model is None:\n",
    "            raise ValueError(\"初始化Trainer时必须传入model参数\")\n",
    "        self.model = model.to(self.device)  # 使用传入的模型\n",
    "\n",
    "        # 定义损失函数\n",
    "        self.ce_loss = nn.CrossEntropyLoss()\n",
    "\n",
    "        # 定义优化器\n",
    "        self.optimizer = optim.Adam(\n",
    "            self.model.parameters(),\n",
    "            lr=config.LR,\n",
    "            weight_decay=config.WEIGHT_DECAY\n",
    "        )\n",
    "\n",
    "        # 学习率调度器\n",
    "        self.scheduler = optim.lr_scheduler.ReduceLROnPlateau(\n",
    "            self.optimizer,\n",
    "            mode='min',\n",
    "            factor=0.5,\n",
    "            patience=3,\n",
    "        )\n",
    "\n",
    "        # 学习率预热调度器\n",
    "        self.warmup_scheduler = optim.lr_scheduler.LambdaLR(\n",
    "            self.optimizer,\n",
    "            lr_lambda=lambda epoch: min(1.0, epoch / config.WARMUP_EPOCHS)\n",
    "        )\n",
    "\n",
    "        # 混合精度训练\n",
    "        if config.ENABLE_MIXED_PRECISION and torch.cuda.is_available():\n",
    "            self.scaler = torch.cuda.amp.GradScaler()\n",
    "            print(\"启用混合精度训练\")\n",
    "        else:\n",
    "            self.scaler = None\n",
    "\n",
    "        # 创建检查点目录\n",
    "        os.makedirs(config.CHECKPOINT_DIR, exist_ok=True)\n",
    "\n",
    "        # 早停计数器\n",
    "        self.early_stop_counter = 0\n",
    "        self.best_val_accuracy = 0.0  # 改为基于准确率早停\n",
    "        print(f\"模型预期输入长度: {config.MAX_SEQ_LEN}\")\n",
    "\n",
    "    def train_one_epoch(self, dataloader, epoch):\n",
    "        \"\"\"\n",
    "        训练一个epoch\n",
    "        :param dataloader: 训练数据加载器\n",
    "        :param epoch: 当前epoch\n",
    "        :return: 平均训练损失和准确率\n",
    "        \"\"\"\n",
    "        self.model.train()\n",
    "        total_loss = 0.0\n",
    "        total_ce_loss = 0.0\n",
    "        correct = 0\n",
    "        total = 0\n",
    "\n",
    "        # 梯度累积\n",
    "        accumulation_steps = self.config.GRADIENT_ACCUMULATION_STEPS\n",
    "        self.optimizer.zero_grad()\n",
    "\n",
    "        progress_bar = tqdm(enumerate(dataloader), total=len(dataloader))\n",
    "        for i, (inputs, labels) in progress_bar:\n",
    "            try:\n",
    "                inputs, labels = inputs.to(self.device), labels.to(self.device)\n",
    "\n",
    "                # 确保输入维度正确 [batch, 1, seq_len]\n",
    "                if inputs.dim() == 2:  # [batch, seq_len]\n",
    "                    inputs = inputs.unsqueeze(1)  # 添加通道维度 -> [batch, 1, seq_len]\n",
    "\n",
    "                # 确保音频长度正确\n",
    "                if inputs.size(2) > self.config.MAX_SEQ_LEN:\n",
    "                    inputs = inputs[:, :, :self.config.MAX_SEQ_LEN]\n",
    "                elif inputs.size(2) < self.config.MAX_SEQ_LEN:\n",
    "                    pad_len = self.config.MAX_SEQ_LEN - inputs.size(2)\n",
    "                    inputs = torch.nn.functional.pad(inputs, (0, pad_len), value=0.0)\n",
    "\n",
    "                # 使用混合精度训练\n",
    "                if self.scaler is not None:\n",
    "                    with torch.cuda.amp.autocast():\n",
    "                        # 前向传播\n",
    "                        embeddings, logits = self.model(inputs)\n",
    "\n",
    "                        # 计算损失\n",
    "                        ce = self.ce_loss(logits, labels)\n",
    "                        loss = self.config.CE_WEIGHT * ce\n",
    "\n",
    "                        # 梯度累积\n",
    "                        loss = loss / accumulation_steps\n",
    "\n",
    "                    # 反向传播\n",
    "                    self.scaler.scale(loss).backward()\n",
    "\n",
    "                    # 梯度裁剪\n",
    "                    self.scaler.unscale_(self.optimizer)\n",
    "                    torch.nn.utils.clip_grad_norm_(self.model.parameters(), self.config.GRAD_CLIP)\n",
    "\n",
    "                    if (i + 1) % accumulation_steps == 0:\n",
    "                        self.scaler.step(self.optimizer)  # 优化器步骤\n",
    "                        self.scaler.update()\n",
    "                        # 2. 再调用预热调度器\n",
    "                        if epoch <= self.config.WARMUP_EPOCHS:\n",
    "                            self.warmup_scheduler.step()\n",
    "                        self.optimizer.zero_grad()\n",
    "\n",
    "                else:\n",
    "                    # 标准训练（不使用混合精度）\n",
    "                    embeddings, logits = self.model(inputs)\n",
    "\n",
    "                    # 计算损失\n",
    "                    ce = self.ce_loss(logits, labels)\n",
    "                    loss = self.config.CE_WEIGHT * ce\n",
    "\n",
    "                    # 梯度累积\n",
    "                    loss = loss / accumulation_steps\n",
    "                    loss.backward()\n",
    "\n",
    "                    # 梯度裁剪\n",
    "                    torch.nn.utils.clip_grad_norm_(self.model.parameters(), self.config.GRAD_CLIP)\n",
    "\n",
    "                    if (i + 1) % accumulation_steps == 0:\n",
    "                        # 1. 先更新参数\n",
    "                        self.optimizer.step()\n",
    "                        # 2. 再调用学习率预热调度器（仅在预热阶段）\n",
    "                        if epoch <= self.config.WARMUP_EPOCHS:\n",
    "                            self.warmup_scheduler.step()  # 移动到optimizer.step()之后\n",
    "                        self.optimizer.zero_grad()\n",
    "\n",
    "                # 统计\n",
    "                total_loss += loss.item() * accumulation_steps\n",
    "                total_ce_loss += ce.item()\n",
    "                _, predicted = logits.max(1)\n",
    "                total += labels.size(0)\n",
    "                correct += predicted.eq(labels).sum().item()\n",
    "\n",
    "                # 更新进度条\n",
    "                if i % 10 == 0:  # 减少更新频率\n",
    "                    accuracy = 100. * correct / total\n",
    "                    avg_loss = total_loss / (i + 1)\n",
    "                    progress_bar.set_description(\n",
    "                        f\"Epoch {epoch}, Loss: {avg_loss:.4f}, Acc: {accuracy:.2f}%\"\n",
    "                    )\n",
    "\n",
    "                # 手动垃圾回收\n",
    "                if i % 50 == 0:\n",
    "                    torch.cuda.empty_cache()\n",
    "                    gc.collect()\n",
    "\n",
    "            except RuntimeError as e:\n",
    "                if \"out of memory\" in str(e):\n",
    "                    print(f\"内存不足错误在批次 {i}: {e}\")\n",
    "                    torch.cuda.empty_cache()\n",
    "                    gc.collect()\n",
    "                    continue\n",
    "                else:\n",
    "                    raise e\n",
    "\n",
    "        avg_loss = total_loss / len(dataloader)\n",
    "        accuracy = 100. * correct / total\n",
    "        return avg_loss, accuracy\n",
    "\n",
    "    def validate(self, dataloader):\n",
    "        \"\"\"\n",
    "        验证模型性能\n",
    "        :param dataloader: 验证数据加载器\n",
    "        :return: 验证损失和准确率\n",
    "        \"\"\"\n",
    "        self.model.eval()\n",
    "        total_loss = 0.0\n",
    "        correct = 0\n",
    "        total = 0\n",
    "\n",
    "        with torch.no_grad():\n",
    "            for i, (inputs, labels) in enumerate(dataloader):\n",
    "                try:\n",
    "                    inputs, labels = inputs.to(self.device), labels.to(self.device)\n",
    "\n",
    "                    # 确保输入维度正确 [batch, 1, seq_len]\n",
    "                    if inputs.dim() == 2:  # [batch, seq_len]\n",
    "                        inputs = inputs.unsqueeze(1)  # 添加通道维度 -> [batch, 1, seq_len]\n",
    "\n",
    "                    # 确保音频长度正确\n",
    "                    if inputs.size(2) > self.config.MAX_SEQ_LEN:\n",
    "                        inputs = inputs[:, :, :self.config.MAX_SEQ_LEN]\n",
    "                    elif inputs.size(2) < self.config.MAX_SEQ_LEN:\n",
    "                        pad_len = self.config.MAX_SEQ_LEN - inputs.size(2)\n",
    "                        inputs = torch.nn.functional.pad(inputs, (0, pad_len), value=0.0)\n",
    "\n",
    "                    # 前向传播\n",
    "                    embeddings, logits = self.model(inputs)\n",
    "\n",
    "                    # 计算损失\n",
    "                    ce = self.ce_loss(logits, labels)\n",
    "                    loss = self.config.CE_WEIGHT * ce\n",
    "\n",
    "                    total_loss += loss.item()\n",
    "\n",
    "                    # 统计准确率\n",
    "                    _, predicted = logits.max(1)\n",
    "                    total += labels.size(0)\n",
    "                    correct += predicted.eq(labels).sum().item()\n",
    "\n",
    "                    # 内存管理\n",
    "                    if i % 20 == 0:\n",
    "                        torch.cuda.empty_cache()\n",
    "                        gc.collect()\n",
    "\n",
    "                except RuntimeError as e:\n",
    "                    if \"out of memory\" in str(e):\n",
    "                        print(f\"验证时内存不足: {e}\")\n",
    "                        torch.cuda.empty_cache()\n",
    "                        gc.collect()\n",
    "                        continue\n",
    "                    else:\n",
    "                        raise e\n",
    "\n",
    "        avg_loss = total_loss / len(dataloader)\n",
    "        accuracy = 100. * correct / total\n",
    "        return avg_loss, accuracy\n",
    "\n",
    "    def train(self, train_dataloader, val_dataloader):\n",
    "        \"\"\"\n",
    "        完整训练流程\n",
    "        :param train_dataloader: 训练数据加载器\n",
    "        :param val_dataloader: 验证数据加载器\n",
    "        \"\"\"\n",
    "        print(\"开始训练...\")\n",
    "        print(f\"训练集批次: {len(train_dataloader)}, 验证集批次: {len(val_dataloader)}\")\n",
    "\n",
    "        for epoch in range(1, self.config.EPOCHS + 1):\n",
    "            try:\n",
    "                # 应用学习率预热\n",
    "                if epoch <= self.config.WARMUP_EPOCHS:\n",
    "                    self.warmup_scheduler.step()\n",
    "\n",
    "                # 训练一个epoch\n",
    "                train_loss, train_acc = self.train_one_epoch(train_dataloader, epoch)\n",
    "                print(f\"Epoch {epoch}/{self.config.EPOCHS}, Train Loss: {train_loss:.4f}, Train Acc: {train_acc:.2f}%\")\n",
    "\n",
    "                # 验证\n",
    "                val_loss, val_acc = self.validate(val_dataloader)\n",
    "                print(f\"Epoch {epoch}, Val Loss: {val_loss:.4f}, Val Acc: {val_acc:.2f}%\")\n",
    "\n",
    "                # 更新学习率\n",
    "                self.scheduler.step(val_loss)\n",
    "                current_lr = self.optimizer.param_groups[0]['lr']\n",
    "                print(f\"当前学习率: {current_lr:.6f}\")\n",
    "\n",
    "                # 早停检查 (基于验证准确率)\n",
    "                if val_acc > self.best_val_accuracy + self.config.MIN_DELTA:\n",
    "                    self.best_val_accuracy = val_acc\n",
    "                    self.early_stop_counter = 0\n",
    "                    # 保存最佳模型\n",
    "                    torch.save({\n",
    "                        'epoch': epoch,\n",
    "                        'model_state_dict': self.model.state_dict(),\n",
    "                        'optimizer_state_dict': self.optimizer.state_dict(),\n",
    "                        'val_loss': val_loss,\n",
    "                        'val_accuracy': val_acc\n",
    "                    }, os.path.join(self.config.CHECKPOINT_DIR, 'best_model.pth'))\n",
    "                    print(f\"保存最佳模型，验证准确率: {val_acc:.2f}%\")\n",
    "                else:\n",
    "                    self.early_stop_counter += 1\n",
    "                    if self.early_stop_counter >= self.config.PATIENCE:\n",
    "                        print(f\"早停于第 {epoch} 轮\")\n",
    "                        break\n",
    "\n",
    "                # 定期保存模型\n",
    "                if epoch % self.config.SAVE_INTERVAL == 0:\n",
    "                    torch.save({\n",
    "                        'epoch': epoch,\n",
    "                        'model_state_dict': self.model.state_dict(),\n",
    "                        'optimizer_state_dict': self.optimizer.state_dict(),\n",
    "                        'train_loss': train_loss,\n",
    "                        'train_accuracy': train_acc\n",
    "                    }, os.path.join(self.config.CHECKPOINT_DIR, f'model_epoch_{epoch}.pth'))\n",
    "\n",
    "                # 清理内存\n",
    "                torch.cuda.empty_cache()\n",
    "                gc.collect()\n",
    "\n",
    "            except KeyboardInterrupt:\n",
    "                print(\"训练被用户中断\")\n",
    "                break\n",
    "            except Exception as e:\n",
    "                print(f\"训练错误: {e}\")\n",
    "                torch.cuda.empty_cache()\n",
    "                gc.collect()\n",
    "                continue\n",
    "\n",
    "    def load_checkpoint(self, checkpoint_path):\n",
    "        \"\"\"\n",
    "        加载检查点\n",
    "        :param checkpoint_path: 检查点路径\n",
    "        \"\"\"\n",
    "        checkpoint = torch.load(checkpoint_path, map_location=self.device)\n",
    "        self.model.load_state_dict(checkpoint['model_state_dict'])\n",
    "        if 'optimizer_state_dict' in checkpoint:\n",
    "            self.optimizer.load_state_dict(checkpoint['optimizer_state_dict'])\n",
    "        epoch = checkpoint.get('epoch', 0)\n",
    "        print(f\"从第 {epoch} 轮加载检查点\")\n",
    "        return epoch\n",
    "\n",
    "# 评估器类\n",
    "class Evaluator:\n",
    "    def __init__(self, model, config=Config):\n",
    "        \"\"\"初始化评估器\"\"\"\n",
    "        self.model = model\n",
    "        self.config = config\n",
    "        self.device = torch.device(\"cuda\" if torch.cuda.is_available() else \"cpu\")\n",
    "        self.model.to(self.device)\n",
    "        self.model.eval()\n",
    "\n",
    "    def evaluate_accuracy(self, dataloader):\n",
    "        \"\"\"\n",
    "        评估模型准确率\n",
    "        :param dataloader: 数据加载器\n",
    "        :return: 准确率\n",
    "        \"\"\"\n",
    "        correct = 0\n",
    "        total = 0\n",
    "\n",
    "        with torch.no_grad():\n",
    "            for i, (inputs, labels) in enumerate(dataloader):\n",
    "                try:\n",
    "                    inputs, labels = inputs.to(self.device), labels.to(self.device)\n",
    "\n",
    "                    # 确保输入维度正确\n",
    "                    if inputs.dim() == 2:  # [batch, seq_len]\n",
    "                        inputs = inputs.unsqueeze(1)  # 添加通道维度 -> [batch, 1, seq_len]\n",
    "\n",
    "                    # 截断过长的序列\n",
    "                    if inputs.size(2) > self.config.MAX_SEQ_LEN:\n",
    "                        inputs = inputs[:, :, :self.config.MAX_SEQ_LEN]\n",
    "\n",
    "                    _, logits = self.model(inputs)\n",
    "                    _, predicted = logits.max(1)\n",
    "                    total += labels.size(0)\n",
    "                    correct += predicted.eq(labels).sum().item()\n",
    "\n",
    "                    # 内存管理\n",
    "                    if i % 20 == 0:\n",
    "                        torch.cuda.empty_cache()\n",
    "                        gc.collect()\n",
    "\n",
    "                except RuntimeError as e:\n",
    "                    if \"out of memory\" in str(e):\n",
    "                        print(f\"评估时内存不足: {e}\")\n",
    "                        torch.cuda.empty_cache()\n",
    "                        gc.collect()\n",
    "                        continue\n",
    "                    else:\n",
    "                        raise e\n",
    "\n",
    "        accuracy = 100. * correct / total\n",
    "        return accuracy\n",
    "\n",
    "# 测试代码\n",
    "if __name__ == \"__main__\":\n",
    "    # 设置较小的批次大小\n",
    "    batch_size = Config.BATCH_SIZE\n",
    "\n",
    "    print(\"创建数据加载器...\")\n",
    "    try:\n",
    "        dataloaders = get_dataloaders(batch_size=batch_size)\n",
    "\n",
    "        if dataloaders is None:\n",
    "            print(\"无法创建数据加载器，退出\")\n",
    "            exit(1)\n",
    "\n",
    "        print(f\"训练集批次数: {len(dataloaders['train'])}\")\n",
    "        print(f\"验证集批次数: {len(dataloaders['val'])}\")\n",
    "        print(f\"测试集批次数: {len(dataloaders['test'])}\")\n",
    "\n",
    "        # 关键修改：从训练集中获取实际说话人数量（类别数）\n",
    "        num_speakers = len(dataloaders[\"train\"].dataset.speaker_to_idx)\n",
    "        print(f\"数据集中实际说话人数量（类别数）: {num_speakers}\")\n",
    "\n",
    "        # 创建训练器前，先初始化模型并传入正确的num_classes\n",
    "        print(\"创建模型和训练器...\")\n",
    "        # 关键修改：确保在创建Trainer时使用正确的num_classes初始化模型\n",
    "        # 1. 初始化模型（传入正确的num_classes）\n",
    "        model = CHiLAPModel(num_classes=num_speakers)\n",
    "        # 2. 将模型传入Trainer，确保优化器初始化时模型已存在\n",
    "        trainer = Trainer(config=Config, model=model)  # 传入model参数\n",
    "\n",
    "        # 测试一个批次\n",
    "        print(\"测试前向传播...\")\n",
    "        try:\n",
    "            x, y = next(iter(dataloaders[\"train\"]))\n",
    "            print(f\"原始输入形状: {x.shape}, 标签形状: {y.shape}\")\n",
    "\n",
    "            # 处理输入维度\n",
    "            if x.dim() == 2:  # [batch, seq_len]\n",
    "                x = x.unsqueeze(1)  # 添加通道维度 -> [batch, 1, seq_len]\n",
    "\n",
    "            # 确保音频长度正确\n",
    "            if x.size(2) > Config.MAX_SEQ_LEN:\n",
    "                x = x[:, :, :Config.MAX_SEQ_LEN]\n",
    "            elif x.size(2) < Config.MAX_SEQ_LEN:\n",
    "                pad_len = Config.MAX_SEQ_LEN - x.size(2)\n",
    "                x = torch.nn.functional.pad(x, (0, pad_len), value=0.0)\n",
    "\n",
    "            print(f\"处理后输入形状: {x.shape}\")\n",
    "\n",
    "            x = x.to(trainer.device)\n",
    "            y = y.to(trainer.device)\n",
    "\n",
    "            with torch.no_grad():\n",
    "                embeddings, logits = trainer.model(x)\n",
    "                print(f\"嵌入形状: {embeddings.shape}, 输出形状: {logits.shape}\")\n",
    "                print(\"前向传播测试成功!\")\n",
    "        except Exception as e:\n",
    "            print(f\"前向传播测试失败: {e}\")\n",
    "            import traceback\n",
    "            traceback.print_exc()\n",
    "            exit(1)\n",
    "\n",
    "        # 开始训练\n",
    "        print(\"开始训练...\")\n",
    "        trainer.train(dataloaders[\"train\"], dataloaders[\"val\"])\n",
    "\n",
    "        # 创建评估器\n",
    "        print(\"创建评估器...\")\n",
    "        evaluator = Evaluator(trainer.model)\n",
    "\n",
    "        # 评估模型\n",
    "        print(\"评估模型...\")\n",
    "        test_accuracy = evaluator.evaluate_accuracy(dataloaders[\"test\"])\n",
    "        print(f\"测试集准确率: {test_accuracy:.2f}%\")\n",
    "\n",
    "    except Exception as e:\n",
    "        print(f\"程序执行错误: {e}\")\n",
    "        import traceback\n",
    "        traceback.print_exc()"
   ]
  }
 ],
 "metadata": {
  "kernelspec": {
   "display_name": "Python 3 (ipykernel)",
   "language": "python",
   "name": "python3"
  },
  "language_info": {
   "codemirror_mode": {
    "name": "ipython",
    "version": 3
   },
   "file_extension": ".py",
   "mimetype": "text/x-python",
   "name": "python",
   "nbconvert_exporter": "python",
   "pygments_lexer": "ipython3",
   "version": "3.12.10"
  }
 },
 "nbformat": 4,
 "nbformat_minor": 5
}
