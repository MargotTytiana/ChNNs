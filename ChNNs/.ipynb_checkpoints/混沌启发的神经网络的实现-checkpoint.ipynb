{
 "cells": [
  {
   "cell_type": "markdown",
   "id": "31e63799-c107-409e-8f2b-24e091caf79d",
   "metadata": {},
   "source": [
    "# 混沌启发的神经网络的实现\n",
    "#### **第1步：选择混沌模型**  \n",
    "根据任务特性选择底层混沌系统"
   ]
  },
  {
   "cell_type": "code",
   "execution_count": null,
   "id": "61bd28c1-b918-4c44-b901-e34e8297a68f",
   "metadata": {},
   "outputs": [],
   "source": [
    "class LorenzCell(nn.Module):\n",
    "    def __init__(self):\n",
    "        super().__init__()\n",
    "        self.sigma = nn.Parameter(torch.tensor(10.0))  # 可学习参数\n",
    "        self.rho = nn.Parameter(torch.tensor(28.0))\n",
    "        self.beta = nn.Parameter(torch.tensor(2.667))\n",
    "    \n",
    "    def forward(self, xyz):\n",
    "        x, y, z = xyz\n",
    "        dx = self.sigma * (y - x)\n",
    "        dy = x * (self.rho - z) - y\n",
    "        dz = x * y - self.beta * z\n",
    "        return torch.stack([dx, dy, dz])"
   ]
  },
  {
   "cell_type": "markdown",
   "id": "2bea5b7b-32ec-4f7d-89a3-3802cb6835a3",
   "metadata": {},
   "source": [
    "#### **第2步：设计网络架构**  \n",
    "将混沌系统嵌入神经网络层：  \n",
    "- **选项1：混沌神经元替代LSTM**  "
   ]
  },
  {
   "cell_type": "code",
   "execution_count": null,
   "id": "3f56f779-2cec-4ddb-9099-973583fb6243",
   "metadata": {
    "tags": []
   },
   "outputs": [],
   "source": [
    "class ChaoticRNN(nn.Module):\n",
    "    def __init__(self, input_size, hidden_size):\n",
    "        super().__init__()\n",
    "        self.fc = nn.Linear(input_size, hidden_size)  # 输入映射\n",
    "        self.chaos = LorenzCell()                    # 混沌动态核心\n",
    "        self.out = nn.Linear(hidden_size, 1)         # 输出层\n",
    "\n",
    "    def forward(self, x):\n",
    "        h = torch.zeros(3)                # [x, y, z]初始状态\n",
    "        outputs = []\n",
    "        for t in range(x.size(0)):\n",
    "            h = h + 0.01 * self.chaos(h)  # 欧拉积分步\n",
    "            h = h + self.fc(x[t])         # 注入输入\n",
    "            outputs.append(self.out(h[0:1]))  # 用x分量预测\n",
    "        return torch.stack(outputs)"
   ]
  },
  {
   "cell_type": "markdown",
   "id": "10c65e6d-71c2-407c-9cd5-7a16d531e3cf",
   "metadata": {},
   "source": [
    "**选项2：混沌注意力机制**  \n",
    "  用Lyapunov指数控制注意力权重"
   ]
  },
  {
   "cell_type": "code",
   "execution_count": null,
   "id": "a48dfc89-0e2e-431e-9845-cbcf1a5f0041",
   "metadata": {},
   "outputs": [],
   "source": [
    "def chaotic_attention(Q, K, V, le_target=0.05):\n",
    "    scores = Q @ K.T / sqrt(dim)\n",
    "    le = compute_lyapunov(scores)  # 计算LE\n",
    "    scores = scores * (1 + torch.sigmoid(le - le_target))  # 动态缩放\n",
    "\n",
    "    return softmax(scores) @ V"
   ]
  },
  {
   "cell_type": "markdown",
   "id": "49c3b170-cb71-4759-bea6-b1266ef0783f",
   "metadata": {},
   "source": [
    "#### **第3步：动态稳定性控制**  \n",
    "通过正则化和约束保持可控混沌：  \n",
    "1. **Lyapunov损失函数**：  "
   ]
  },
  {
   "cell_type": "code",
   "execution_count": null,
   "id": "2b35ba0a-98f5-47a1-8b37-0ee92941c560",
   "metadata": {},
   "outputs": [],
   "source": [
    "def lyapunov_loss(hidden_states):\n",
    "    J = torch.autograd.functional.jacobian(model, hidden_states)  # 计算Jacobian\n",
    "    le = torch.log(torch.norm(J, dim=(1,2))  # 近似最大LE\n",
    "    return torch.abs(le.mean() - target_le)\n",
    "\n",
    "loss = task_loss + 0.1 * lyapunov_loss(hidden_states)"
   ]
  },
  {
   "cell_type": "markdown",
   "id": "66cdcaf9-4b72-46fa-9a0f-ec2ad0591f33",
   "metadata": {},
   "source": [
    "2. **梯度裁剪**：限制参数更新幅度，避免混沌爆炸  "
   ]
  },
  {
   "cell_type": "code",
   "execution_count": null,
   "id": "a087fc90-c27d-4fb8-b3ad-b69d31db3fcf",
   "metadata": {},
   "outputs": [],
   "source": [
    "torch.nn.utils.clip_grad_norm_(model.parameters(), max_norm=1.0)"
   ]
  },
  {
   "cell_type": "markdown",
   "id": "0a4a9bcd-56d3-4a9b-bda8-382b53f62894",
   "metadata": {},
   "source": [
    "#### **第4步：训练与调参技巧**  \n",
    "- **参数初始化**：  \n",
    "  - 混沌参数初始在临界区（如Lorenz的 $\\rho \\approx 24$）  \n",
    "  - 使用**谱归一化**稳定训练：  "
   ]
  },
  {
   "cell_type": "code",
   "execution_count": null,
   "id": "79b915cc-4e66-4af7-b84d-b6a9530535cc",
   "metadata": {},
   "outputs": [],
   "source": [
    "for layer in model.children():\n",
    "    if isinstance(layer, nn.Linear):\n",
    "        nn.utils.spectral_norm(layer)"
   ]
  },
  {
   "cell_type": "markdown",
   "id": "89e72b09-b665-4bd7-a078-2942d4a0b2a8",
   "metadata": {},
   "source": [
    "- **学习率调度**："
   ]
  },
  {
   "cell_type": "code",
   "execution_count": null,
   "id": "9eac255a-76ae-460e-a365-ab58de72761b",
   "metadata": {},
   "outputs": [],
   "source": [
    "scheduler = torch.optim.lr_scheduler.CyclicLR(\n",
    "  optimizer, base_lr=1e-4, max_lr=1e-3, \n",
    "  step_size_up=1000, mode='exp_range'\n",
    ")"
   ]
  },
  {
   "cell_type": "markdown",
   "id": "1374df63-3066-48fd-aea6-c922e8868172",
   "metadata": {},
   "source": [
    "#### **第5步：验证与可视化**  \n",
    "1. **相空间轨迹图**：  "
   ]
  },
  {
   "cell_type": "code",
   "execution_count": null,
   "id": "1fd75b09-8cf8-43e8-b38f-e8f62389f4b7",
   "metadata": {},
   "outputs": [],
   "source": [
    "from mpl_toolkits.mplot3d import Axes3D\n",
    "fig = plt.figure()\n",
    "ax = fig.add_subplot(111, projection='3d')\n",
    "ax.plot(hidden_states[:,0], hidden_states[:,1], hidden_states[:,2])\n",
    "plt.title(\"网络隐藏态的奇怪吸引子\")"
   ]
  },
  {
   "cell_type": "markdown",
   "id": "f3176aeb-1ffc-4780-9447-24a02bce587e",
   "metadata": {},
   "source": [
    "2. **Lyapunov指数监控**：  "
   ]
  },
  {
   "cell_type": "code",
   "execution_count": null,
   "id": "2cb8b54c-d3bb-4498-91a3-9f275879addd",
   "metadata": {},
   "outputs": [],
   "source": [
    "if current_le > 0.1:\n",
    "    print(\"警告：混沌过强！正在调整...\")\n",
    "    optimizer.param_groups[0]['lr'] *= 0.9"
   ]
  },
  {
   "cell_type": "markdown",
   "id": "ad3d90f9-e0ee-4545-a78a-c1a0e3039f42",
   "metadata": {},
   "source": [
    "## 完整代码框架"
   ]
  },
  {
   "cell_type": "code",
   "execution_count": null,
   "id": "9f5f7cbb-a4e7-4eba-a2d2-884dbbc9e968",
   "metadata": {},
   "outputs": [],
   "source": [
    "import torch\n",
    "import torch.nn as nn\n",
    "import matplotlib.pyplot as plt\n",
    "\n",
    "class ChaoticNet(nn.Module):\n",
    "    def __init__(self, input_dim=3, hidden_dim=64):\n",
    "        super().__init__()\n",
    "        # 输入层 → 混沌空间\n",
    "        self.encoder = nn.Linear(input_dim, hidden_dim)\n",
    "        \n",
    "        # 核心混沌层\n",
    "        self.chaos_layer = LorenzCell()  # 自定义的Lorenz单元\n",
    "        \n",
    "        # 动态稳定性控制\n",
    "        self.le_reg = LyapunovRegularizer(target_le=0.05)\n",
    "        \n",
    "        # 输出层\n",
    "        self.decoder = nn.Linear(hidden_dim, 1)\n",
    "\n",
    "    def forward(self, x):\n",
    "        # 编码输入\n",
    "        h = self.encoder(x)\n",
    "        \n",
    "        # 混沌演化\n",
    "        chaos_states = []\n",
    "        for _ in range(10):  # 10步混沌迭代\n",
    "            h = self.chaos_layer(h)\n",
    "            chaos_states.append(h)\n",
    "        \n",
    "        # 计算Lyapunov损失\n",
    "        self.le_loss = self.le_reg(torch.stack(chaos_states))\n",
    "        \n",
    "        # 解码输出\n",
    "        return self.decoder(h)\n",
    "\n",
    "# 训练循环\n",
    "model = ChaoticNet()\n",
    "optimizer = torch.optim.Adam(model.parameters(), lr=1e-3)\n",
    "\n",
    "for epoch in range(100):\n",
    "    for x, y in dataloader:\n",
    "        pred = model(x)\n",
    "        loss = nn.MSELoss()(pred, y) + model.le_loss\n",
    "        optimizer.zero_grad()\n",
    "        loss.backward()\n",
    "        torch.nn.utils.clip_grad_norm_(model.parameters(), 1.0)\n",
    "        optimizer.step()"
   ]
  }
 ],
 "metadata": {
  "kernelspec": {
   "display_name": "Python [conda env:.conda-VirEnvir] *",
   "language": "python",
   "name": "conda-env-.conda-VirEnvir-py"
  },
  "language_info": {
   "codemirror_mode": {
    "name": "ipython",
    "version": 3
   },
   "file_extension": ".py",
   "mimetype": "text/x-python",
   "name": "python",
   "nbconvert_exporter": "python",
   "pygments_lexer": "ipython3",
   "version": "3.8.20"
  }
 },
 "nbformat": 4,
 "nbformat_minor": 5
}
