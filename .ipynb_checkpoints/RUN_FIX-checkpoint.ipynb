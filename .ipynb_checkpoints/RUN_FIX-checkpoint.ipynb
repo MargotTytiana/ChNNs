{
 "cells": [
  {
   "cell_type": "code",
   "execution_count": 3,
   "id": "ba8bf196-4600-4ddc-a1ff-e7e61bd668fe",
   "metadata": {},
   "outputs": [
    {
     "name": "stdout",
     "output_type": "stream",
     "text": [
      "MLSA导入问题快速修复\n",
      "==================================================\n",
      "修复文件: /scratch/project_2003370/yueyao/Model/core/mlsa_extractor.py\n",
      "已备份到: /scratch/project_2003370/yueyao/Model/core/mlsa_extractor.py.backup\n",
      "使用主要替换方法\n",
      "已修复导入问题: /scratch/project_2003370/yueyao/Model/core/mlsa_extractor.py\n",
      "导入问题修复完成\n",
      "\n",
      "测试修复后的导入...\n",
      "/scratch/project_2003370/yueyao/Model/core/mlsa_extractor.py:39: UserWarning: Failed to import required modules: No module named 'chaos_utils'\n",
      "  warnings.warn(f\"Failed to import required modules: {e}\")\n",
      "MLSA模块导入成功\n",
      "/scratch/project_2003370/yueyao/Model/core/mlsa_extractor.py:316: UserWarning: PyWavelets not available, using Fourier fallback\n",
      "  warnings.warn(\"PyWavelets not available, using Fourier fallback\")\n",
      "MLSA实例化成功\n",
      "测试特征提取...\n",
      "特征提取成功\n",
      "   特征向量长度: 105\n",
      "   分析的尺度: [1, 2, 4, 8, 16]\n",
      "\n",
      "修复成功！现在你可以正常使用MLSA模块了！\n",
      "\n",
      "使用方法:\n",
      "from core.mlsa_extractor import MLSAExtractor, MLSAConfig\n",
      "config = MLSAConfig()\n",
      "extractor = MLSAExtractor(config)\n",
      "features = extractor.extract_features(your_audio_data)\n"
     ]
    }
   ],
   "source": [
    "!python mlsa_import_fix.py"
   ]
  },
  {
   "cell_type": "code",
   "execution_count": 4,
   "id": "6c2c2fad-a0b6-4de2-be72-d687681f9f34",
   "metadata": {},
   "outputs": [
    {
     "name": "stdout",
     "output_type": "stream",
     "text": [
      "RQA提取器导入问题修复脚本\n",
      "==================================================\n",
      "修复文件: /scratch/project_2003370/yueyao/Model/core/rqa_extractor.py\n",
      "已备份到: /scratch/project_2003370/yueyao/Model/core/rqa_extractor.py.backup\n",
      "使用主要替换方法\n",
      "已修复导入问题: /scratch/project_2003370/yueyao/Model/core/rqa_extractor.py\n",
      "RQA导入问题修复完成\n",
      "\n",
      "测试修复后的RQA导入...\n",
      "/scratch/project_2003370/yueyao/Model/core/rqa_extractor.py:38: UserWarning: Failed to import required modules: No module named 'phase_space_reconstruction'\n",
      "  warnings.warn(f\"Failed to import required modules: {e}\")\n",
      "RQA模块导入成功\n",
      "RQA实例化成功\n",
      "RQA修复成功\n",
      "\n",
      "测试chaotic_features导入...\n",
      "/scratch/project_2003370/yueyao/Model/core/mlsa_extractor.py:39: UserWarning: Failed to import required modules: No module named 'chaos_utils'\n",
      "  warnings.warn(f\"Failed to import required modules: {e}\")\n",
      "ChaoticFeatures模块导入成功\n",
      "/scratch/project_2003370/yueyao/Model/core/mlsa_extractor.py:316: UserWarning: PyWavelets not available, using Fourier fallback\n",
      "  warnings.warn(\"PyWavelets not available, using Fourier fallback\")\n",
      "ChaoticFeatureExtractor实例化成功\n",
      "\n",
      "修复成功！现在可以正常使用所有混沌特征模块了！\n",
      "\n",
      "使用方法:\n",
      "from features.chaotic_features import ChaoticFeatureExtractor, ChaoticFeatureConfig\n",
      "config = ChaoticFeatureConfig()\n",
      "extractor = ChaoticFeatureExtractor(config)\n",
      "features = extractor.extract_features(your_audio_data)\n"
     ]
    }
   ],
   "source": [
    "!python rqa_fix_script.py\n"
   ]
  },
  {
   "cell_type": "code",
   "execution_count": 7,
   "id": "e38e28d3-e961-417d-b4a4-7d94cee1246e",
   "metadata": {},
   "outputs": [
    {
     "name": "stdout",
     "output_type": "stream",
     "text": [
      "脚本目录: /scratch/project_2003370/yueyao/Model\n",
      "项目根目录: /scratch/project_2003370/yueyao\n",
      "LibriSpeech路径: /scratch/project_2003370/yueyao/dataset/train-clean-100/LibriSpeech/train-clean-100\n",
      "路径是否存在: True\n",
      "找到 28539 个FLAC文件\n",
      "示例文件: /scratch/project_2003370/yueyao/dataset/train-clean-100/LibriSpeech/train-clean-100/6836/61804/6836-61804-0000.flac\n"
     ]
    }
   ],
   "source": [
    "!python 1.py"
   ]
  }
 ],
 "metadata": {
  "kernelspec": {
   "display_name": "Python 3 (ipykernel)",
   "language": "python",
   "name": "python3"
  },
  "language_info": {
   "codemirror_mode": {
    "name": "ipython",
    "version": 3
   },
   "file_extension": ".py",
   "mimetype": "text/x-python",
   "name": "python",
   "nbconvert_exporter": "python",
   "pygments_lexer": "ipython3",
   "version": "3.12.10"
  }
 },
 "nbformat": 4,
 "nbformat_minor": 5
}
