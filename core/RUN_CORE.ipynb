{
 "cells": [
  {
   "cell_type": "code",
   "execution_count": 3,
   "id": "b2ee748b-05cd-47cb-8c73-2ac572a47d81",
   "metadata": {},
   "outputs": [
    {
     "name": "stdout",
     "output_type": "stream",
     "text": [
      "Testing Chaos Utils...\n",
      "Integration setup: time_span=(0.0, 10.0), dt=0.01\n",
      "Expected points: ~1000\n",
      "Generated trajectory with 1001 points\n",
      "Trajectory shape: (3, 1001)\n",
      "Time range: [0.000, 10.000]\n",
      "Final state: [-4.9026884  -3.74388378 24.69084381]\n",
      "Largest Lyapunov exponent: 0.062210\n",
      "Trajectory for correlation dim: (1001, 3)\n",
      "Correlation dimension: 1.599\n",
      "Hurst exponent: 1.000\n",
      "Chaos utils testing completed.\n",
      "\n",
      "=== Integration Parameter Debug ===\n",
      "span=(0.0, 1.0), dt=0.1: expected 11, got 100\n",
      "span=(0.0, 1.0), dt=0.05: expected 21, got 100\n",
      "span=(0.0, 1.0), dt=0.01: expected 101, got 101\n",
      "span=(0.0, 5.0), dt=0.1: expected 51, got 100\n",
      "span=(0.0, 5.0), dt=0.05: expected 101, got 101\n",
      "span=(0.0, 5.0), dt=0.01: expected 501, got 501\n",
      "span=(0.0, 10.0), dt=0.1: expected 101, got 101\n",
      "span=(0.0, 10.0), dt=0.05: expected 201, got 201\n",
      "span=(0.0, 10.0), dt=0.01: expected 1001, got 1001\n",
      "=== Debug Complete ===\n",
      "\n"
     ]
    }
   ],
   "source": [
    "!python chaos_utils.py"
   ]
  },
  {
   "cell_type": "code",
   "execution_count": 2,
   "id": "8f3a1329-7371-44eb-b904-e9d2f80b91e4",
   "metadata": {},
   "outputs": [
    {
     "name": "stdout",
     "output_type": "stream",
     "text": [
      "Testing Phase Space Reconstruction...\n",
      "Generated 5000 data points from Lorenz system\n",
      "/scratch/project_2003370/yueyao/Model/core/phase_space_reconstruction.py:678: UserWarning: Dimension estimation failed for cao: index 4998 is out of bounds for axis 0 with size 4998\n",
      "  warnings.warn(f\"Dimension estimation failed for {method_name}: {e}\")\n",
      "Parameter estimates: {'delay_estimates': {'autocorrelation': 35, 'mutual_information': 16}, 'dimension_estimates': {'false_neighbors': 2, 'cao': None}, 'consensus_delay': 25, 'consensus_dimension': 2}\n",
      "Reconstruction successful: True\n",
      "Optimal delay: 35\n",
      "Optimal dimension: 2\n",
      "Embedded points: 4965\n",
      "Quality metrics: {'embedding_efficiency': 0.993, 'convex_hull_volume': 696.2133097719125, 'variance_ratios': [0.5030940185311337, 0.4969059814688663], 'effective_dimensions': 2, 'mean_interdim_correlation': 0.3640479732065691, 'max_interdim_correlation': 0.3640479732065691}\n",
      "Figure(1200x400)\n",
      "Phase Space Reconstruction testing completed!\n"
     ]
    }
   ],
   "source": [
    "!python phase_space_reconstruction.py # 相空间重构测试"
   ]
  },
  {
   "cell_type": "code",
   "execution_count": 2,
   "id": "6f91c7f6-27c5-4c7a-9cf7-af42329d6146",
   "metadata": {},
   "outputs": [
    {
     "name": "stdout",
     "output_type": "stream",
     "text": [
      "\n",
      "=== Integration Parameter Debug ===\n",
      "span=(0.0, 1.0), dt=0.1: expected 11, got 100\n",
      "span=(0.0, 1.0), dt=0.05: expected 21, got 100\n",
      "span=(0.0, 1.0), dt=0.01: expected 101, got 101\n",
      "span=(0.0, 5.0), dt=0.1: expected 51, got 100\n",
      "span=(0.0, 5.0), dt=0.05: expected 101, got 101\n",
      "span=(0.0, 5.0), dt=0.01: expected 501, got 501\n",
      "span=(0.0, 10.0), dt=0.1: expected 101, got 101\n",
      "span=(0.0, 10.0), dt=0.05: expected 201, got 201\n",
      "span=(0.0, 10.0), dt=0.01: expected 1001, got 1001\n",
      "=== Debug Complete ===\n",
      "\n",
      "Testing Multi-scale Lyapunov Spectrum Analysis...\n",
      "Generated test signal with 2000 points\n",
      "Extracting MLSA features...\n",
      "/scratch/project_2003370/yueyao/Model/core/mlsa_extractor.py:525: UserWarning: Lyapunov calculation failed for scale 1: zero-size array to reduction operation fmin which has no identity\n",
      "  warnings.warn(f\"Lyapunov calculation failed for scale {scale}: {e}\")\n",
      "WARNING:chaos_utils:Poor linear fit in Hurst exponent calculation\n",
      "WARNING:chaos_utils:Poor linear fit in Hurst exponent calculation\n",
      "✓ Feature extraction successful!\n",
      "Scales analyzed: [2, 4]\n",
      "Feature vector shape: (105,)\n",
      "Non-NaN features: 99\n",
      "\n",
      "Key aggregated features:\n",
      "  largest_lyapunov_mean: 0.001922\n",
      "  correlation_dimension_mean: 1.515716\n",
      "  hurst_exponent_mean: 0.010184\n",
      "  n_valid_scales: 2.000000\n",
      "MLSA testing completed!\n"
     ]
    }
   ],
   "source": [
    "!python mlsa_extractor.py            # MLSA特征提取测试"
   ]
  },
  {
   "cell_type": "code",
   "execution_count": 1,
   "id": "ed304a0f-322b-4f0f-b781-49c3071985f0",
   "metadata": {},
   "outputs": [
    {
     "name": "stdout",
     "output_type": "stream",
     "text": [
      "\n",
      "=== Integration Parameter Debug ===\n",
      "span=(0.0, 1.0), dt=0.1: expected 11, got 100\n",
      "span=(0.0, 1.0), dt=0.05: expected 21, got 100\n",
      "span=(0.0, 1.0), dt=0.01: expected 101, got 101\n",
      "span=(0.0, 5.0), dt=0.1: expected 51, got 100\n",
      "span=(0.0, 5.0), dt=0.05: expected 101, got 101\n",
      "span=(0.0, 5.0), dt=0.01: expected 501, got 501\n",
      "span=(0.0, 10.0), dt=0.1: expected 101, got 101\n",
      "span=(0.0, 10.0), dt=0.05: expected 201, got 201\n",
      "span=(0.0, 10.0), dt=0.01: expected 1001, got 1001\n",
      "=== Debug Complete ===\n",
      "\n",
      "Testing Recurrence Quantification Analysis...\n",
      "Generated test signal with 1000 points\n",
      "Extracting RQA features...\n",
      "/scratch/project_2003370/yueyao/Model/core/rqa_extractor.py:748: UserWarning: RQA analysis failed for scale 1: safe_divide() got an unexpected keyword argument 'default'\n",
      "  warnings.warn(f\"RQA analysis failed for scale {scale}: {e}\")\n",
      "/scratch/project_2003370/yueyao/Model/core/rqa_extractor.py:748: UserWarning: RQA analysis failed for scale 2: safe_divide() got an unexpected keyword argument 'default'\n",
      "  warnings.warn(f\"RQA analysis failed for scale {scale}: {e}\")\n",
      "/scratch/project_2003370/yueyao/Model/core/rqa_extractor.py:748: UserWarning: RQA analysis failed for scale 4: safe_divide() got an unexpected keyword argument 'default'\n",
      "  warnings.warn(f\"RQA analysis failed for scale {scale}: {e}\")\n",
      "✓ RQA feature extraction successful!\n",
      "Embedding: delay=46, dimension=2\n",
      "Successful scales: dict_keys([1, 2, 4])\n",
      "Feature vector shape: (125,)\n",
      "Non-NaN features: 0\n",
      "\n",
      "Key RQA features:\n",
      "  RR_mean: nan\n",
      "  DET_mean: nan\n",
      "  LAM_mean: nan\n",
      "  L_max_mean: nan\n",
      "  COMP_mean: nan\n",
      "  overall_complexity: nan\n",
      "RQA testing completed!\n"
     ]
    }
   ],
   "source": [
    "!python rqa_extractor.py             # RQA特征提取测试"
   ]
  },
  {
   "cell_type": "code",
   "execution_count": 3,
   "id": "bb893d37-e789-4e9f-b056-d887e5d83059",
   "metadata": {},
   "outputs": [
    {
     "name": "stdout",
     "output_type": "stream",
     "text": [
      "Testing Chaotic Embedding Layer...\n",
      "Input features shape: torch.Size([8, 4])\n",
      "Output trajectories shape: torch.Size([8, 20, 3])\n",
      "Trajectory statistics:\n",
      "  mean: shape torch.Size([8, 3])\n",
      "  std: shape torch.Size([8, 3])\n",
      "  range: shape torch.Size([8, 3])\n",
      "  total_length: shape torch.Size([8])\n",
      "\n",
      "Testing Adaptive Chaotic Embedding...\n",
      "Adaptive trajectories shape: torch.Size([8, 20, 3])\n",
      "\n",
      "Chaotic Embedding Layer test completed!\n"
     ]
    }
   ],
   "source": [
    "!python chaotic_embedding.py"
   ]
  },
  {
   "cell_type": "code",
   "execution_count": 4,
   "id": "80af4651-f27c-401e-8359-a2075061596c",
   "metadata": {},
   "outputs": [
    {
     "name": "stdout",
     "output_type": "stream",
     "text": [
      "Testing Attractor Pooling Layer...\n",
      "Input trajectory shape: torch.Size([4, 100, 3])\n",
      "Output features shape: torch.Size([4, 5])\n",
      "Features sample: tensor([ 1.8768,  1.0000,  0.0234,  9.4665, 16.7681])\n",
      "\n",
      "Trajectory Analysis:\n",
      "  mean: torch.Size([4, 3]) - sample: tensor([ 1.7211, -0.4573,  0.1595])\n",
      "  std: torch.Size([4, 3]) - sample: tensor([6.6448, 5.8373, 3.5062])\n",
      "  min: torch.Size([4, 3]) - sample: tensor([-10.6586,  -8.5913,  -5.5195])\n",
      "  max: torch.Size([4, 3]) - sample: tensor([10.9834,  8.4764,  6.0750])\n",
      "  correlation_dimension: torch.Size([4]) - sample: 1.8768342733383179\n",
      "  lyapunov_exponents: torch.Size([4, 3]) - sample: tensor([0.0146, 0.0073, 0.0015])\n",
      "  lyapunov_dimension: torch.Size([4]) - sample: 1.0\n",
      "  kolmogorov_entropy: torch.Size([4]) - sample: 0.02341953106224537\n",
      "  total_length: torch.Size([4]) - sample: 154.65713500976562\n",
      "  gyration_radius: torch.Size([4]) - sample: 9.466548919677734\n",
      "  box_dimension: torch.Size([4]) - sample: 16.76805877685547\n",
      "\n",
      "Pooling type 'basic': output shape torch.Size([4, 3])\n",
      "\n",
      "Pooling type 'comprehensive': output shape torch.Size([4, 5])\n",
      "\n",
      "Pooling type 'learnable': output shape torch.Size([4, 3])\n",
      "\n",
      "Attractor Pooling Layer test completed!\n"
     ]
    }
   ],
   "source": [
    "!python attractor_pooling.py"
   ]
  },
  {
   "cell_type": "code",
   "execution_count": null,
   "id": "fedcada8-4620-4072-8bf6-7003ae341e10",
   "metadata": {},
   "outputs": [],
   "source": []
  }
 ],
 "metadata": {
  "kernelspec": {
   "display_name": "Python 3 (ipykernel)",
   "language": "python",
   "name": "python3"
  },
  "language_info": {
   "codemirror_mode": {
    "name": "ipython",
    "version": 3
   },
   "file_extension": ".py",
   "mimetype": "text/x-python",
   "name": "python",
   "nbconvert_exporter": "python",
   "pygments_lexer": "ipython3",
   "version": "3.12.10"
  }
 },
 "nbformat": 4,
 "nbformat_minor": 5
}
